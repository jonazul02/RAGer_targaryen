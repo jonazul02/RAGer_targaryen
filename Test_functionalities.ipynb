{
 "cells": [
  {
   "cell_type": "markdown",
   "metadata": {},
   "source": [
    "### Auxiliar helps"
   ]
  },
  {
   "cell_type": "markdown",
   "metadata": {},
   "source": [
    "**Mistral GPT**\n",
    "- [Chat de mucha ayuda](https://chat.mistral.ai/chat/ca2c680a-db36-49d8-ab11-3ada57e3f6da)\n",
    "- [API keys Mistral](https://console.mistral.ai/api-keys/)\n",
    "\n",
    "**Ligas de aprendizaje**\n",
    "\n",
    "\n",
    "- [Tokenizer mistral](https://docs.mistral.ai/guides/tokenization/)\n",
    "- [Tokenizer mistral colab](https://colab.research.google.com/github/mistralai/mistral-common/blob/main/examples/tokenizer.ipynb#scrollTo=ed997bda-93f7-435a-b529-e7a80c8dbff5)\n",
    "- [Embeddings mistral](https://docs.mistral.ai/capabilities/embeddings/)\n",
    "- [Embeddings mistral colab](https://colab.research.google.com/github/mistralai/cookbook/blob/main/mistral/embeddings/embeddings.ipynb)\n",
    "- [Basic RAG mistral](https://docs.mistral.ai/guides/rag/)\n",
    "- [Basic RAG mistral colab](https://colab.research.google.com/github/mistralai/cookbook/blob/main/mistral/rag/basic_RAG.ipynb)\n",
    "\n",
    "\n",
    "- [Mistral Models cathalog](https://docs.mistral.ai/getting-started/models/models_overview/)\n",
    "\n",
    "- [HyDE model](https://arxiv.org/pdf/2212.10496)\n",
    "\n",
    "- [Mixtral model](https://huggingface.co/mistralai/Mixtral-8x7B-Instruct-v0.1)\n",
    "- [Large model](https://mistral.ai/news/mistral-large/)"
   ]
  },
  {
   "cell_type": "markdown",
   "metadata": {},
   "source": [
    "# Start"
   ]
  },
  {
   "cell_type": "code",
   "execution_count": 1,
   "metadata": {},
   "outputs": [],
   "source": [
    "from utilities.utils import pdf_processing\n",
    "from utilities.configure_script import ConfigurationLoader"
   ]
  },
  {
   "cell_type": "code",
   "execution_count": 2,
   "metadata": {},
   "outputs": [],
   "source": [
    "configs = ConfigurationLoader.get_config()"
   ]
  },
  {
   "cell_type": "code",
   "execution_count": 3,
   "metadata": {},
   "outputs": [],
   "source": [
    "import pandas as pd\n",
    "import ast\n",
    "import os\n",
    "import base64\n",
    "from typing import List\n",
    "import json\n",
    "from PIL import Image"
   ]
  },
  {
   "cell_type": "code",
   "execution_count": 19,
   "metadata": {},
   "outputs": [],
   "source": [
    "df = pd.read_csv(configs['paths']['recepies_path']['csv_ingredients'], usecols=['Title', 'Ingredients', 'Instructions', 'Image_Name'])\n",
    "df['Ingredients'] = df['Ingredients'].apply(lambda x: ast.literal_eval(x))\n",
    "images = os.listdir(configs['paths']['recepies_path']['images_folder'])\n",
    "images_processed = [img.replace('.jpg','') for img in images]\n",
    "final_df = df[df['Image_Name'].isin(images_processed)].copy()\n",
    "list_descriptions = []\n",
    "for index, row in final_df.iterrows():\n",
    "    dish = row['Image_Name']\n",
    "    image = Image.open(row['Image_paths']).convert(\"RGB\")\n",
    "    description = generate_image_description(image, processor_blip, model_blip, device)\n",
    "    list_descriptions.append(dish+ ' ' + description)\n",
    "final_df['Image_descriptions'] = list_descriptions"
   ]
  },
  {
   "cell_type": "code",
   "execution_count": 5,
   "metadata": {},
   "outputs": [],
   "source": [
    "def df_processing_0(dataframe_path:str, img_folder_path:str)->pd.DataFrame:\n",
    "    dataframe = pd.read_csv(dataframe_path, usecols=['Title', 'Ingredients', 'Instructions', 'Image_Name'])\n",
    "    dataframe['Ingredients'] = dataframe['Ingredients'].apply(lambda x: ast.literal_eval(x))\n",
    "    images = os.listdir(img_folder_path)\n",
    "    images_processed = [img.replace('.jpg','') for img in images]\n",
    "    final_df = dataframe[dataframe['Image_Name'].isin(images_processed)].copy()\n",
    "    list_descriptions = []\n",
    "    for index, row in final_df.iterrows():\n",
    "        dish = row['Image_Name']\n",
    "        image = Image.open(row['Image_paths']).convert(\"RGB\")\n",
    "        description = generate_image_description(image, processor_blip, model_blip, device)\n",
    "        list_descriptions.append(dish+ ' ' + description)\n",
    "    final_df['Image_descriptions'] = list_descriptions\n",
    "    return final_df"
   ]
  },
  {
   "cell_type": "code",
   "execution_count": 6,
   "metadata": {},
   "outputs": [
    {
     "data": {
      "text/plain": [
       "(13276, 4)"
      ]
     },
     "execution_count": 6,
     "metadata": {},
     "output_type": "execute_result"
    }
   ],
   "source": [
    "final_df.shape"
   ]
  },
  {
   "cell_type": "code",
   "execution_count": 7,
   "metadata": {},
   "outputs": [
    {
     "data": {
      "text/html": [
       "<div>\n",
       "<style scoped>\n",
       "    .dataframe tbody tr th:only-of-type {\n",
       "        vertical-align: middle;\n",
       "    }\n",
       "\n",
       "    .dataframe tbody tr th {\n",
       "        vertical-align: top;\n",
       "    }\n",
       "\n",
       "    .dataframe thead th {\n",
       "        text-align: right;\n",
       "    }\n",
       "</style>\n",
       "<table border=\"1\" class=\"dataframe\">\n",
       "  <thead>\n",
       "    <tr style=\"text-align: right;\">\n",
       "      <th></th>\n",
       "      <th>Title</th>\n",
       "      <th>Ingredients</th>\n",
       "      <th>Instructions</th>\n",
       "      <th>Image_Name</th>\n",
       "    </tr>\n",
       "  </thead>\n",
       "  <tbody>\n",
       "    <tr>\n",
       "      <th>0</th>\n",
       "      <td>Miso-Butter Roast Chicken With Acorn Squash Pa...</td>\n",
       "      <td>[1 (3½–4-lb.) whole chicken, 2¾ tsp. kosher sa...</td>\n",
       "      <td>Pat chicken dry with paper towels, season all ...</td>\n",
       "      <td>miso-butter-roast-chicken-acorn-squash-panzanella</td>\n",
       "    </tr>\n",
       "    <tr>\n",
       "      <th>1</th>\n",
       "      <td>Crispy Salt and Pepper Potatoes</td>\n",
       "      <td>[2 large egg whites, 1 pound new potatoes (abo...</td>\n",
       "      <td>Preheat oven to 400°F and line a rimmed baking...</td>\n",
       "      <td>crispy-salt-and-pepper-potatoes-dan-kluger</td>\n",
       "    </tr>\n",
       "    <tr>\n",
       "      <th>2</th>\n",
       "      <td>Thanksgiving Mac and Cheese</td>\n",
       "      <td>[1 cup evaporated milk, 1 cup whole milk, 1 ts...</td>\n",
       "      <td>Place a rack in middle of oven; preheat to 400...</td>\n",
       "      <td>thanksgiving-mac-and-cheese-erick-williams</td>\n",
       "    </tr>\n",
       "    <tr>\n",
       "      <th>3</th>\n",
       "      <td>Italian Sausage and Bread Stuffing</td>\n",
       "      <td>[1 (¾- to 1-pound) round Italian loaf, cut int...</td>\n",
       "      <td>Preheat oven to 350°F with rack in middle. Gen...</td>\n",
       "      <td>italian-sausage-and-bread-stuffing-240559</td>\n",
       "    </tr>\n",
       "    <tr>\n",
       "      <th>4</th>\n",
       "      <td>Newton's Law</td>\n",
       "      <td>[1 teaspoon dark brown sugar, 1 teaspoon hot w...</td>\n",
       "      <td>Stir together brown sugar and hot water in a c...</td>\n",
       "      <td>newtons-law-apple-bourbon-cocktail</td>\n",
       "    </tr>\n",
       "    <tr>\n",
       "      <th>...</th>\n",
       "      <td>...</td>\n",
       "      <td>...</td>\n",
       "      <td>...</td>\n",
       "      <td>...</td>\n",
       "    </tr>\n",
       "    <tr>\n",
       "      <th>13496</th>\n",
       "      <td>Brownie Pudding Cake</td>\n",
       "      <td>[1 cup all-purpose flour, 2/3 cup unsweetened ...</td>\n",
       "      <td>Preheat the oven to 350°F. Into a bowl sift to...</td>\n",
       "      <td>brownie-pudding-cake-14408</td>\n",
       "    </tr>\n",
       "    <tr>\n",
       "      <th>13497</th>\n",
       "      <td>Israeli Couscous with Roasted Butternut Squash...</td>\n",
       "      <td>[1 preserved lemon, 1 1/2 pound butternut squa...</td>\n",
       "      <td>Preheat oven to 475°F.\\nHalve lemons and scoop...</td>\n",
       "      <td>israeli-couscous-with-roasted-butternut-squash...</td>\n",
       "    </tr>\n",
       "    <tr>\n",
       "      <th>13498</th>\n",
       "      <td>Rice with Soy-Glazed Bonito Flakes and Sesame ...</td>\n",
       "      <td>[Leftover katsuo bushi (dried bonito flakes) f...</td>\n",
       "      <td>If using katsuo bushi flakes from package, moi...</td>\n",
       "      <td>rice-with-soy-glazed-bonito-flakes-and-sesame-...</td>\n",
       "    </tr>\n",
       "    <tr>\n",
       "      <th>13499</th>\n",
       "      <td>Spanakopita</td>\n",
       "      <td>[1 stick (1/2 cup) plus 1 tablespoon unsalted ...</td>\n",
       "      <td>Melt 1 tablespoon butter in a 12-inch heavy sk...</td>\n",
       "      <td>spanakopita-107344</td>\n",
       "    </tr>\n",
       "    <tr>\n",
       "      <th>13500</th>\n",
       "      <td>Mexican Poblano, Spinach, and Black Bean \"Lasa...</td>\n",
       "      <td>[12 medium to large fresh poblano chiles (2 1/...</td>\n",
       "      <td>Lay 4 chiles on their sides on racks of gas bu...</td>\n",
       "      <td>mexican-poblano-spinach-and-black-bean-lasagne...</td>\n",
       "    </tr>\n",
       "  </tbody>\n",
       "</table>\n",
       "<p>13276 rows × 4 columns</p>\n",
       "</div>"
      ],
      "text/plain": [
       "                                                   Title  \\\n",
       "0      Miso-Butter Roast Chicken With Acorn Squash Pa...   \n",
       "1                        Crispy Salt and Pepper Potatoes   \n",
       "2                            Thanksgiving Mac and Cheese   \n",
       "3                     Italian Sausage and Bread Stuffing   \n",
       "4                                           Newton's Law   \n",
       "...                                                  ...   \n",
       "13496                               Brownie Pudding Cake   \n",
       "13497  Israeli Couscous with Roasted Butternut Squash...   \n",
       "13498  Rice with Soy-Glazed Bonito Flakes and Sesame ...   \n",
       "13499                                        Spanakopita   \n",
       "13500  Mexican Poblano, Spinach, and Black Bean \"Lasa...   \n",
       "\n",
       "                                             Ingredients  \\\n",
       "0      [1 (3½–4-lb.) whole chicken, 2¾ tsp. kosher sa...   \n",
       "1      [2 large egg whites, 1 pound new potatoes (abo...   \n",
       "2      [1 cup evaporated milk, 1 cup whole milk, 1 ts...   \n",
       "3      [1 (¾- to 1-pound) round Italian loaf, cut int...   \n",
       "4      [1 teaspoon dark brown sugar, 1 teaspoon hot w...   \n",
       "...                                                  ...   \n",
       "13496  [1 cup all-purpose flour, 2/3 cup unsweetened ...   \n",
       "13497  [1 preserved lemon, 1 1/2 pound butternut squa...   \n",
       "13498  [Leftover katsuo bushi (dried bonito flakes) f...   \n",
       "13499  [1 stick (1/2 cup) plus 1 tablespoon unsalted ...   \n",
       "13500  [12 medium to large fresh poblano chiles (2 1/...   \n",
       "\n",
       "                                            Instructions  \\\n",
       "0      Pat chicken dry with paper towels, season all ...   \n",
       "1      Preheat oven to 400°F and line a rimmed baking...   \n",
       "2      Place a rack in middle of oven; preheat to 400...   \n",
       "3      Preheat oven to 350°F with rack in middle. Gen...   \n",
       "4      Stir together brown sugar and hot water in a c...   \n",
       "...                                                  ...   \n",
       "13496  Preheat the oven to 350°F. Into a bowl sift to...   \n",
       "13497  Preheat oven to 475°F.\\nHalve lemons and scoop...   \n",
       "13498  If using katsuo bushi flakes from package, moi...   \n",
       "13499  Melt 1 tablespoon butter in a 12-inch heavy sk...   \n",
       "13500  Lay 4 chiles on their sides on racks of gas bu...   \n",
       "\n",
       "                                              Image_Name  \n",
       "0      miso-butter-roast-chicken-acorn-squash-panzanella  \n",
       "1             crispy-salt-and-pepper-potatoes-dan-kluger  \n",
       "2             thanksgiving-mac-and-cheese-erick-williams  \n",
       "3              italian-sausage-and-bread-stuffing-240559  \n",
       "4                     newtons-law-apple-bourbon-cocktail  \n",
       "...                                                  ...  \n",
       "13496                         brownie-pudding-cake-14408  \n",
       "13497  israeli-couscous-with-roasted-butternut-squash...  \n",
       "13498  rice-with-soy-glazed-bonito-flakes-and-sesame-...  \n",
       "13499                                 spanakopita-107344  \n",
       "13500  mexican-poblano-spinach-and-black-bean-lasagne...  \n",
       "\n",
       "[13276 rows x 4 columns]"
      ]
     },
     "execution_count": 7,
     "metadata": {},
     "output_type": "execute_result"
    }
   ],
   "source": [
    "final_df"
   ]
  },
  {
   "cell_type": "code",
   "execution_count": 8,
   "metadata": {},
   "outputs": [
    {
     "data": {
      "text/plain": [
       "Index(['Title', 'Ingredients', 'Instructions', 'Image_Name'], dtype='object')"
      ]
     },
     "execution_count": 8,
     "metadata": {},
     "output_type": "execute_result"
    }
   ],
   "source": [
    "final_df.columns"
   ]
  },
  {
   "cell_type": "code",
   "execution_count": 9,
   "metadata": {},
   "outputs": [
    {
     "data": {
      "text/plain": [
       "'miso-butter-roast-chicken-acorn-squash-panzanella'"
      ]
     },
     "execution_count": 9,
     "metadata": {},
     "output_type": "execute_result"
    }
   ],
   "source": [
    "final_df['Image_Name'][0]"
   ]
  },
  {
   "cell_type": "code",
   "execution_count": 18,
   "metadata": {},
   "outputs": [],
   "source": [
    "def create_text_1(title_string: str, ingredients_string: str, instructions_string: str, img_description_string: str)->str:\n",
    "    '''\n",
    "    This function convert the three columns into a single string text to process into a json,\n",
    "    this will to help us to create the text database.\n",
    "    '''\n",
    "\n",
    "    dish_name = 'Dish name: ' +  title_string + ' \\n\\n '\n",
    "    ingredients_string = dish_name + 'List of ingredients: '+ \" \\n \".join(ingredients_string)\n",
    "    ingredients_string = ingredients_string + \" \\n\\n\"\n",
    "    semifinal_text = ingredients_string + 'Preparation instructions: ' + instructions_string\n",
    "    final_text = semifinal_text + '\\n\\n' + 'Image description: ' + img_description_string\n",
    "\n",
    "    return final_text\n"
   ]
  },
  {
   "cell_type": "code",
   "execution_count": 11,
   "metadata": {},
   "outputs": [],
   "source": [
    "def encode_image_2(image_path:str)->str:\n",
    "    '''\n",
    "    This function convert the image into a base64 representation\n",
    "    '''\n",
    "    with open(image_path, \"rb\") as image_file:\n",
    "        return base64.b64encode(image_file.read()).decode('utf-8')"
   ]
  },
  {
   "cell_type": "code",
   "execution_count": 12,
   "metadata": {},
   "outputs": [],
   "source": [
    "def write_json_3(save_path:str, list_file: List):\n",
    "    '''\n",
    "    This function save a file into a json type\n",
    "    '''\n",
    "    with open(save_path, 'w', encoding='utf-8') as f:\n",
    "        json.dump(list_file, f, ensure_ascii=False, indent=4)\n",
    "    return print('File Created')"
   ]
  },
  {
   "cell_type": "code",
   "execution_count": 13,
   "metadata": {},
   "outputs": [],
   "source": [
    "def convert_df2json(dataframe: pd.DataFrame, img_folder_path: str, save_file_path:str):\n",
    "    '''\n",
    "    This function process a csv and convert into a json file readable for llms\n",
    "    '''\n",
    "    recetario = []\n",
    "    for index, row in dataframe.iterrows():\n",
    "        dic = {}\n",
    "        dic['Recepie'] = create_text_1(row['Title'], row['Ingredients'], row['Instructions'])\n",
    "        dic['Image'] = row['Image_Name']\n",
    "        dic['Image_base64'] = encode_image_2(img_folder_path + row['Image_Name'] + '.jpg')\n",
    "        recetario.append(dic)\n",
    "    write_json_3(save_file_path, recetario) \n",
    "    "
   ]
  },
  {
   "cell_type": "code",
   "execution_count": 14,
   "metadata": {},
   "outputs": [
    {
     "name": "stdout",
     "output_type": "stream",
     "text": [
      "File Created\n"
     ]
    }
   ],
   "source": [
    "recetario = []\n",
    "for index, row in df.iterrows():\n",
    "    dic = {}\n",
    "    dic['Recepie'] = create_text_1(row['Title'], row['Ingredients'], row['Instructions'])\n",
    "    dic['Image'] = row['Image_Name']\n",
    "    dic['Image_base64'] = encode_image_2(configs['paths']['recepies_path']['images_folder'] + row['Image_Name'] + '.jpg')\n",
    "    recetario.append(dic)\n",
    "    if index == 2:\n",
    "        break\n",
    "write_json_3(configs['paths']['recepies_path']['recepies_json'], recetario)"
   ]
  },
  {
   "cell_type": "code",
   "execution_count": null,
   "metadata": {},
   "outputs": [],
   "source": [
    "recetario = []\n",
    "for index, row in df.iterrows():\n",
    "    dic = {}\n",
    "    dic['Recepie'] = create_text_1(row['Title'], row['Ingredients'], row['Instructions'], row['Image_descroption'])\n",
    "    dic['Image'] = row['Image_Name']\n",
    "    dic['Image_base64'] = encode_image_2(configs['paths']['recepies_path']['images_folder'] + row['Image_Name'] + '.jpg')\n",
    "    recetario.append(dic)\n",
    "    if index == 2:\n",
    "        break\n",
    "write_json_3(configs['paths']['recepies_path']['recepies_json'], recetario)"
   ]
  },
  {
   "cell_type": "code",
   "execution_count": 15,
   "metadata": {},
   "outputs": [
    {
     "data": {
      "text/plain": [
       "[{'Recepie': 'Dish name: Miso-Butter Roast Chicken With Acorn Squash Panzanella \\n\\n List of ingredients: 1 (3½–4-lb.) whole chicken \\n 2¾ tsp. kosher salt, divided, plus more \\n 2 small acorn squash (about 3 lb. total) \\n 2 Tbsp. finely chopped sage \\n 1 Tbsp. finely chopped rosemary \\n 6 Tbsp. unsalted butter, melted, plus 3 Tbsp. room temperature \\n ¼ tsp. ground allspice \\n Pinch of crushed red pepper flakes \\n Freshly ground black pepper \\n ⅓ loaf good-quality sturdy white bread, torn into 1\" pieces (about 2½ cups) \\n 2 medium apples (such as Gala or Pink Lady; about 14 oz. total), cored, cut into 1\" pieces \\n 2 Tbsp. extra-virgin olive oil \\n ½ small red onion, thinly sliced \\n 3 Tbsp. apple cider vinegar \\n 1 Tbsp. white miso \\n ¼ cup all-purpose flour \\n 2 Tbsp. unsalted butter, room temperature \\n ¼ cup dry white wine \\n 2 cups unsalted chicken broth \\n 2 tsp. white miso \\n Kosher salt, freshly ground pepper \\n\\nPreparation instructions: Pat chicken dry with paper towels, season all over with 2 tsp. salt, and tie legs together with kitchen twine. Let sit at room temperature 1 hour.\\nMeanwhile, halve squash and scoop out seeds. Run a vegetable peeler along ridges of squash halves to remove skin. Cut each half into ½\"-thick wedges; arrange on a rimmed baking sheet.\\nCombine sage, rosemary, and 6 Tbsp. melted butter in a large bowl; pour half of mixture over squash on baking sheet. Sprinkle squash with allspice, red pepper flakes, and ½ tsp. salt and season with black pepper; toss to coat.\\nAdd bread, apples, oil, and ¼ tsp. salt to remaining herb butter in bowl; season with black pepper and toss to combine. Set aside.\\nPlace onion and vinegar in a small bowl; season with salt and toss to coat. Let sit, tossing occasionally, until ready to serve.\\nPlace a rack in middle and lower third of oven; preheat to 425°F. Mix miso and 3 Tbsp. room-temperature butter in a small bowl until smooth. Pat chicken dry with paper towels, then rub or brush all over with miso butter. Place chicken in a large cast-iron skillet and roast on middle rack until an instant-read thermometer inserted into the thickest part of breast registers 155°F, 50–60 minutes. (Temperature will climb to 165°F while chicken rests.) Let chicken rest in skillet at least 5 minutes, then transfer to a plate; reserve skillet.\\nMeanwhile, roast squash on lower rack until mostly tender, about 25 minutes. Remove from oven and scatter reserved bread mixture over, spreading into as even a layer as you can manage. Return to oven and roast until bread is golden brown and crisp and apples are tender, about 15 minutes. Remove from oven, drain pickled onions, and toss to combine. Transfer to a serving dish.\\nUsing your fingers, mash flour and butter in a small bowl to combine.\\nSet reserved skillet with chicken drippings over medium heat. You should have about ¼ cup, but a little over or under is all good. (If you have significantly more, drain off and set excess aside.) Add wine and cook, stirring often and scraping up any browned bits with a wooden spoon, until bits are loosened and wine is reduced by about half (you should be able to smell the wine), about 2 minutes. Add butter mixture; cook, stirring often, until a smooth paste forms, about 2 minutes. Add broth and any reserved drippings and cook, stirring constantly, until combined and thickened, 6–8 minutes. Remove from heat and stir in miso. Taste and season with salt and black pepper.\\nServe chicken with gravy and squash panzanella alongside.',\n",
       "  'Image': 'miso-butter-roast-chicken-acorn-squash-panzanella',\n",
       "  'Image_base64': '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'},\n",
       " {'Recepie': 'Dish name: Crispy Salt and Pepper Potatoes \\n\\n List of ingredients: 2 large egg whites \\n 1 pound new potatoes (about 1 inch in diameter) \\n 2 teaspoons kosher salt \\n ¾ teaspoon finely ground black pepper \\n 1 teaspoon finely chopped rosemary \\n 1 teaspoon finely chopped thyme \\n 1 teaspoon finely chopped parsley \\n\\nPreparation instructions: Preheat oven to 400°F and line a rimmed baking sheet with parchment. In a large bowl, whisk the egg whites until foamy (there shouldn’t be any liquid whites in the bowl). Add the potatoes and toss until they’re well coated with the egg whites, then transfer to a strainer or colander and let the excess whites drain. Season the potatoes with the salt, pepper, and herbs. Scatter the potatoes on the baking sheet (make sure they’re not touching) and roast until the potatoes are very crispy and tender when poked with a knife, 15 to 20 minutes (depending on the size of the potatoes).\\nTransfer to a bowl and serve.',\n",
       "  'Image': 'crispy-salt-and-pepper-potatoes-dan-kluger',\n",
       "  'Image_base64': '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'},\n",
       " {'Recepie': 'Dish name: Thanksgiving Mac and Cheese \\n\\n List of ingredients: 1 cup evaporated milk \\n 1 cup whole milk \\n 1 tsp. garlic powder \\n 1 tsp. onion powder \\n 1 tsp. smoked paprika \\n ½ tsp. freshly ground black pepper \\n 1 tsp. kosher salt, plus more \\n 2 lb. extra-sharp cheddar, coarsely grated \\n 4 oz. full-fat cream cheese \\n 1 lb. elbow macaroni \\n\\nPreparation instructions: Place a rack in middle of oven; preheat to 400°. Bring evaporated milk and whole milk to a bare simmer in a large saucepan over medium heat. Whisk in garlic powder, onion powder, paprika, pepper, and 1 tsp. salt. Working in batches, whisk in three fourths of the cheddar, then all of the cream cheese.\\nMeanwhile, bring a large pot of generously salted water to a boil (it should have a little less salt than seawater). Cook macaroni, stirring occasionally, until very al dente, about 4 minutes. Drain in a colander.\\nAdd macaroni to cheese sauce in pan and mix until well coated. Evenly spread out half of macaroni mixture in a 13x9\" baking dish. Sprinkle half of remaining cheddar evenly over. Layer remaining macaroni mixture on top and sprinkle with remaining cheddar. Bake until all of the cheese is melted, about 10 minutes. Let cool slightly before serving.',\n",
       "  'Image': 'thanksgiving-mac-and-cheese-erick-williams',\n",
       "  'Image_base64': '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'}]"
      ]
     },
     "execution_count": 15,
     "metadata": {},
     "output_type": "execute_result"
    }
   ],
   "source": [
    "recetario"
   ]
  },
  {
   "cell_type": "markdown",
   "metadata": {},
   "source": [
    "### Chunking"
   ]
  },
  {
   "cell_type": "code",
   "execution_count": 1,
   "metadata": {},
   "outputs": [
    {
     "name": "stderr",
     "output_type": "stream",
     "text": [
      "d:\\Proyectos\\Docker\\Multimodal_RAG\\amb_mulrimodalrag\\Lib\\site-packages\\sentence_transformers\\cross_encoder\\CrossEncoder.py:13: TqdmExperimentalWarning: Using `tqdm.autonotebook.tqdm` in notebook mode. Use `tqdm.tqdm` instead to force console mode (e.g. in jupyter console)\n",
      "  from tqdm.autonotebook import tqdm, trange\n"
     ]
    },
    {
     "name": "stdout",
     "output_type": "stream",
     "text": [
      "True\n"
     ]
    }
   ],
   "source": [
    "from mistral_common.tokens.tokenizers.mistral import MistralTokenizer\n",
    "\n",
    "from mistral_common.protocol.instruct.messages import UserMessage\n",
    "from mistral_common.protocol.instruct.request import ChatCompletionRequest\n",
    "\n",
    "from typing import List, Tuple, Optional, Union\n",
    "import numpy as np\n",
    "from tqdm import tqdm\n",
    "import json\n",
    "from utilities.utils import pdf_processing\n",
    "from utilities.configure_script import ConfigurationLoader\n",
    "from sentence_transformers import SentenceTransformer\n",
    "\n",
    "import torch\n",
    "print(torch.cuda.is_available()) "
   ]
  },
  {
   "cell_type": "code",
   "execution_count": 59,
   "metadata": {},
   "outputs": [],
   "source": [
    "class Chunk_processing:\n",
    "    def __init__(self, json_file, output_save_file,tokenizer, embedding_model, device, context_chunking = True):\n",
    "        self.data = json_file\n",
    "        self.save_file_path = output_save_file\n",
    "        self.tokenizer = tokenizer\n",
    "        self.model = embedding_model\n",
    "        self.device = device\n",
    "        self.flag = context_chunking\n",
    "        pass\n",
    "\n",
    "    def token_count(self, text: str) -> Tuple[List[int],int]:\n",
    "        \"\"\"\n",
    "        Cuenta el número de tokens en el texto dado.\n",
    "        \n",
    "        Parameters:\n",
    "        text (str): Texto a contar los tokens.\n",
    "\n",
    "        Returns:\n",
    "        int: Número de tokens en el texto.\n",
    "        \"\"\"\n",
    "\n",
    "        # Crea una solicitud de tokenización para el texto\n",
    "        request = ChatCompletionRequest(messages=[UserMessage(content=str(text))])\n",
    "        tokenized = self.tokenizer.encode_chat_completion(request)\n",
    "        tokens = tokenized.tokens\n",
    "        return tokens, len(tokenized.tokens)\n",
    "\n",
    "    def chunk_by_token_count(self, text: str, max_tokens=4000) -> List[str]:\n",
    "        \"\"\"\n",
    "        Divide el texto en chunks basados en un límite máximo de tokens.\n",
    "\n",
    "        Parameters:\n",
    "        text (str): Texto a dividir en chunks.\n",
    "        max_tokens (int): Límite de tokens por chunk.\n",
    "\n",
    "        Returns:\n",
    "        list: Lista de chunks de texto.\n",
    "        \"\"\"\n",
    "        token_list, token_count = self.token_count(text)\n",
    "\n",
    "        if token_count > max_tokens: \n",
    "            print('Spliting in chunks...')\n",
    "\n",
    "            chunks = []\n",
    "            current_chunk = []\n",
    "            \n",
    "            for token in token_list:\n",
    "                current_chunk.append(token)\n",
    "                if len(current_chunk) == max_tokens:\n",
    "                    chunk_text = self.tokenizer.decode(current_chunk).replace('[INST] ', '').replace(' [/INST]', '')\n",
    "                    chunks.append(chunk_text)\n",
    "                    current_chunk = []\n",
    "\n",
    "            if current_chunk:\n",
    "                chunks.append(self.tokenizer.decode(current_chunk).replace('[INST] ', '').replace(' [/INST]', ''))\n",
    "            \n",
    "            # print('chunks in this document: ', len(chunks))\n",
    "\n",
    "        else:\n",
    "            # print('Is no necesary splitting into chunks')\n",
    "            chunks = [text]\n",
    "\n",
    "        return chunks\n",
    "\n",
    "    def contextual_chunking(self, text: str, max_tokens: int) -> List[str]:\n",
    "        \"\"\"\n",
    "        Realiza un chunkeo del texto basado en contexto, considerando un máximo de tokens.\n",
    "\n",
    "        Parameters:\n",
    "        text (str): Texto a dividir en chunks contextuales.\n",
    "        max_tokens (int): Límite de tokens por chunk.\n",
    "\n",
    "        Returns:\n",
    "        list: Lista de chunks contextuales de texto.\n",
    "        \"\"\"\n",
    "\n",
    "        labels = ['Dish name: ', '\\n\\n List of ingredients: ', '\\n\\nPreparation instructions: ', '\\n\\nImage description: ']\n",
    "        chunks = []\n",
    "        current_position = 0\n",
    "\n",
    "        for label in labels:\n",
    "            start = text.find(label, current_position)\n",
    "            if start != -1:\n",
    "                if current_position != start:\n",
    "                    chunk = text[current_position:start].strip()\n",
    "                    if self.token_count(chunk)[1] > max_tokens:\n",
    "                        chunks.extend(self.chunk_by_token_count(chunk, max_tokens))\n",
    "                    else:\n",
    "                        chunks.append(chunk)\n",
    "                current_position = start + len(label)\n",
    "\n",
    "        if current_position < len(text):\n",
    "            chunk = text[current_position:].strip().replace('-', ' ')\n",
    "            if self.token_count(chunk)[1] > max_tokens:\n",
    "                chunks.extend(self.chunk_by_token_count(chunk, max_tokens))\n",
    "            else:\n",
    "                chunks.append(chunk)\n",
    "        \n",
    "        return chunks\n",
    "\n",
    "    def create_embedding(self, chunks: str) -> List[float]:\n",
    "        \"\"\"\n",
    "        Template para la creación de embeddings, implementado en otro script.\n",
    "\n",
    "        Parameters:\n",
    "        chunk (str): Chunk de texto para generar un embedding.\n",
    "\n",
    "        Returns:\n",
    "        List[float]: Embedding del chunk de texto o un template si no está implementado.\n",
    "        \"\"\"\n",
    "        embeddings = self.model.encode(chunks, device=self.device)        \n",
    "        return [embedding.tolist() for embedding in np.array(embeddings)]\n",
    "\n",
    "    def write_json_3(self, list_file: List):\n",
    "        '''\n",
    "        This function saves a list into a json file.\n",
    "        '''\n",
    "        with open(self.save_file_path, 'w', encoding='utf-8') as f:\n",
    "            json.dump(list_file, f, ensure_ascii=False, indent=4)\n",
    "        print(f'File Created at {self.save_file_path}')\n",
    "\n",
    "    def create_chunking_pipeline(self):\n",
    "        '''\n",
    "        '''\n",
    "        new_list = []\n",
    "        for dic in tqdm(self.data, desc='Chunking docs and calculation of embeddings'):\n",
    "            if self.flag:\n",
    "                chunks = [item for sublist in self.contextual_chunking(text=dic['Recepie'], max_tokens=4000) for item in (sublist if isinstance(sublist, list) else [sublist])]\n",
    "                dic['Chunks'] = chunks\n",
    "            else:\n",
    "                chunks = [item for sublist in self.chunk_by_token_count(text=dic['Recepie'], max_tokens=4000) for item in (sublist if isinstance(sublist, list) else [sublist])]\n",
    "                dic['Chunks'] = chunks\n",
    "            dic['Embeddings'] = self.create_embedding(chunks=chunks)\n",
    "            new_list.append(dic)\n",
    "        print('saving it into a new JSON file')\n",
    "        self.write_json_3(new_list)\n",
    "        print('finished!!!')"
   ]
  },
  {
   "cell_type": "code",
   "execution_count": 60,
   "metadata": {},
   "outputs": [],
   "source": [
    "configs = ConfigurationLoader.get_config()"
   ]
  },
  {
   "cell_type": "code",
   "execution_count": 61,
   "metadata": {},
   "outputs": [],
   "source": [
    "def read_json(file_path):\n",
    "    with open(file_path, 'r', encoding='utf-8') as json_file:\n",
    "        data = json.load(json_file, strict=False)\n",
    "    return data\n",
    "\n",
    "def save_json(output_file_path, list):\n",
    "    with open(output_file_path, 'w', encoding='utf-8') as f:\n",
    "        json.dump(list, f, ensure_ascii=False, indent=4)\n",
    "    return print(f'file created at: {output_file_path}')"
   ]
  },
  {
   "cell_type": "code",
   "execution_count": 62,
   "metadata": {},
   "outputs": [
    {
     "data": {
      "text/plain": [
       "('.\\\\assets\\\\recepies.json', '.\\\\assets\\\\recepies_chunked.json')"
      ]
     },
     "execution_count": 62,
     "metadata": {},
     "output_type": "execute_result"
    }
   ],
   "source": [
    "configs['paths']['recepies_path']['recepies_json'], configs['paths']['recepies_path']['recepies_chunked_json']"
   ]
  },
  {
   "cell_type": "code",
   "execution_count": 63,
   "metadata": {},
   "outputs": [],
   "source": [
    "recepies = read_json(configs['paths']['recepies_path']['recepies_json'])\n",
    "\n",
    "device = \"cuda\" if torch.cuda.is_available() else \"cpu\"\n",
    "\n",
    "tokenizer = MistralTokenizer.v3()\n",
    "model_name = \"open-mistral-7b\"\n",
    "tokenizer = MistralTokenizer.from_model(model_name)\n",
    "\n",
    "model = SentenceTransformer('sentence-transformers/all-MiniLM-L6-v2').to(device)"
   ]
  },
  {
   "cell_type": "code",
   "execution_count": 64,
   "metadata": {},
   "outputs": [],
   "source": [
    "chunker = Chunk_processing(recepies,\n",
    "                           configs['paths']['recepies_path']['recepies_chunked_json'],\n",
    "                           tokenizer,\n",
    "                           model,\n",
    "                           device,\n",
    "                           context_chunking = False)"
   ]
  },
  {
   "cell_type": "code",
   "execution_count": 45,
   "metadata": {},
   "outputs": [
    {
     "name": "stderr",
     "output_type": "stream",
     "text": [
      "Chunking docs and calculation of embeddings: 100%|██████████| 13276/13276 [01:16<00:00, 173.86it/s]\n"
     ]
    },
    {
     "name": "stdout",
     "output_type": "stream",
     "text": [
      "File Created at .\\assets\\recepies_chunked.json\n",
      "finished!!!\n",
      "CPU times: total: 13.3 s\n",
      "Wall time: 1min 38s\n"
     ]
    }
   ],
   "source": [
    "%%time\n",
    "chunker.create_chunking_pipeline()"
   ]
  },
  {
   "cell_type": "code",
   "execution_count": 65,
   "metadata": {},
   "outputs": [
    {
     "name": "stderr",
     "output_type": "stream",
     "text": [
      "Chunking docs and calculation of embeddings:  68%|██████▊   | 9002/13276 [00:51<00:26, 164.38it/s]"
     ]
    },
    {
     "name": "stdout",
     "output_type": "stream",
     "text": [
      "Spliting in chunks...\n",
      "Spliting in chunks...\n"
     ]
    },
    {
     "name": "stderr",
     "output_type": "stream",
     "text": [
      "Chunking docs and calculation of embeddings: 100%|██████████| 13276/13276 [01:15<00:00, 176.67it/s]\n"
     ]
    },
    {
     "name": "stdout",
     "output_type": "stream",
     "text": [
      "saving it into a new JSON file\n",
      "File Created at .\\assets\\recepies_chunked.json\n",
      "finished!!!\n",
      "CPU times: total: 15 s\n",
      "Wall time: 1min 22s\n"
     ]
    }
   ],
   "source": [
    "%%time\n",
    "chunker.create_chunking_pipeline()"
   ]
  },
  {
   "cell_type": "code",
   "execution_count": 66,
   "metadata": {},
   "outputs": [],
   "source": [
    "chunked_recepies = read_json(configs['paths']['recepies_path']['recepies_chunked_json'])"
   ]
  },
  {
   "cell_type": "code",
   "execution_count": 50,
   "metadata": {},
   "outputs": [
    {
     "data": {
      "text/plain": [
       "['Miso-Butter Roast Chicken With Acorn Squash Panzanella',\n",
       " '• 1 (3½–4-lb.) whole chicken \\n• 2¾ tsp. kosher salt, divided, plus more \\n• 2 small acorn squash (about 3 lb. total) \\n• 2 Tbsp. finely chopped sage \\n• 1 Tbsp. finely chopped rosemary \\n• 6 Tbsp. unsalted butter, melted, plus 3 Tbsp. room temperature \\n• ¼ tsp. ground allspice \\n• Pinch of crushed red pepper flakes \\n• Freshly ground black pepper \\n• ⅓ loaf good-quality sturdy white bread, torn into 1\" pieces (about 2½ cups) \\n• 2 medium apples (such as Gala or Pink Lady; about 14 oz. total), cored, cut into 1\" pieces \\n• 2 Tbsp. extra-virgin olive oil \\n• ½ small red onion, thinly sliced \\n• 3 Tbsp. apple cider vinegar \\n• 1 Tbsp. white miso \\n• ¼ cup all-purpose flour \\n• 2 Tbsp. unsalted butter, room temperature \\n• ¼ cup dry white wine \\n• 2 cups unsalted chicken broth \\n• 2 tsp. white miso \\n• Kosher salt, freshly ground pepper',\n",
       " 'Pat chicken dry with paper towels, season all over with 2 tsp. salt, and tie legs together with kitchen twine. Let sit at room temperature 1 hour.\\nMeanwhile, halve squash and scoop out seeds. Run a vegetable peeler along ridges of squash halves to remove skin. Cut each half into ½\"-thick wedges; arrange on a rimmed baking sheet.\\nCombine sage, rosemary, and 6 Tbsp. melted butter in a large bowl; pour half of mixture over squash on baking sheet. Sprinkle squash with allspice, red pepper flakes, and ½ tsp. salt and season with black pepper; toss to coat.\\nAdd bread, apples, oil, and ¼ tsp. salt to remaining herb butter in bowl; season with black pepper and toss to combine. Set aside.\\nPlace onion and vinegar in a small bowl; season with salt and toss to coat. Let sit, tossing occasionally, until ready to serve.\\nPlace a rack in middle and lower third of oven; preheat to 425°F. Mix miso and 3 Tbsp. room-temperature butter in a small bowl until smooth. Pat chicken dry with paper towels, then rub or brush all over with miso butter. Place chicken in a large cast-iron skillet and roast on middle rack until an instant-read thermometer inserted into the thickest part of breast registers 155°F, 50–60 minutes. (Temperature will climb to 165°F while chicken rests.) Let chicken rest in skillet at least 5 minutes, then transfer to a plate; reserve skillet.\\nMeanwhile, roast squash on lower rack until mostly tender, about 25 minutes. Remove from oven and scatter reserved bread mixture over, spreading into as even a layer as you can manage. Return to oven and roast until bread is golden brown and crisp and apples are tender, about 15 minutes. Remove from oven, drain pickled onions, and toss to combine. Transfer to a serving dish.\\nUsing your fingers, mash flour and butter in a small bowl to combine.\\nSet reserved skillet with chicken drippings over medium heat. You should have about ¼ cup, but a little over or under is all good. (If you have significantly more, drain off and set excess aside.) Add wine and cook, stirring often and scraping up any browned bits with a wooden spoon, until bits are loosened and wine is reduced by about half (you should be able to smell the wine), about 2 minutes. Add butter mixture; cook, stirring often, until a smooth paste forms, about 2 minutes. Add broth and any reserved drippings and cook, stirring constantly, until combined and thickened, 6–8 minutes. Remove from heat and stir in miso. Taste and season with salt and black pepper.\\nServe chicken with gravy and squash panzanella alongside.',\n",
       " 'miso butter roast chicken acorn squash panzanella a white plate with chicken, potatoes and onions']"
      ]
     },
     "execution_count": 50,
     "metadata": {},
     "output_type": "execute_result"
    }
   ],
   "source": [
    "chunked_recepies[0]['Chunks']"
   ]
  },
  {
   "cell_type": "code",
   "execution_count": 49,
   "metadata": {},
   "outputs": [
    {
     "data": {
      "text/plain": [
       "4"
      ]
     },
     "execution_count": 49,
     "metadata": {},
     "output_type": "execute_result"
    }
   ],
   "source": [
    "len(chunked_recepies[0]['Embeddings'])"
   ]
  },
  {
   "cell_type": "code",
   "execution_count": 12,
   "metadata": {},
   "outputs": [
    {
     "name": "stdout",
     "output_type": "stream",
     "text": [
      "Dish name: Miso-Butter Roast Chicken With Acorn Squash Panzanella \n",
      "\n",
      " List of ingredients: \n",
      "• 1 (3½–4-lb.) whole chicken \n",
      "• 2¾ tsp. kosher salt, divided, plus more \n",
      "• 2 small acorn squash (about 3 lb. total) \n",
      "• 2 Tbsp. finely chopped sage \n",
      "• 1 Tbsp. finely chopped rosemary \n",
      "• 6 Tbsp. unsalted butter, melted, plus 3 Tbsp. room temperature \n",
      "• ¼ tsp. ground allspice \n",
      "• Pinch of crushed red pepper flakes \n",
      "• Freshly ground black pepper \n",
      "• ⅓ loaf good-quality sturdy white bread, torn into 1\" pieces (about 2½ cups) \n",
      "• 2 medium apples (such as Gala or Pink Lady; about 14 oz. total), cored, cut into 1\" pieces \n",
      "• 2 Tbsp. extra-virgin olive oil \n",
      "• ½ small red onion, thinly sliced \n",
      "• 3 Tbsp. apple cider vinegar \n",
      "• 1 Tbsp. white miso \n",
      "• ¼ cup all-purpose flour \n",
      "• 2 Tbsp. unsalted butter, room temperature \n",
      "• ¼ cup dry white wine \n",
      "• 2 cups unsalted chicken broth \n",
      "• 2 tsp. white miso \n",
      "• Kosher salt, freshly ground pepper \n",
      "\n",
      "Preparation instructions: Pat chicken dry with paper towels, season all over with 2 tsp. salt, and tie legs together with kitchen twine. Let sit at room temperature 1 hour.\n",
      "Meanwhile, halve squash and scoop out seeds. Run a vegetable peeler along ridges of squash halves to remove skin. Cut each half into ½\"-thick wedges; arrange on a rimmed baking sheet.\n",
      "Combine sage, rosemary, and 6 Tbsp. melted butter in a large bowl; pour half of mixture over squash on baking sheet. Sprinkle squash with allspice, red pepper flakes, and ½ tsp. salt and season with black pepper; toss to coat.\n",
      "Add bread, apples, oil, and ¼ tsp. salt to remaining herb butter in bowl; season with black pepper and toss to combine. Set aside.\n",
      "Place onion and vinegar in a small bowl; season with salt and toss to coat. Let sit, tossing occasionally, until ready to serve.\n",
      "Place a rack in middle and lower third of oven; preheat to 425°F. Mix miso and 3 Tbsp. room-temperature butter in a small bowl until smooth. Pat chicken dry with paper towels, then rub or brush all over with miso butter. Place chicken in a large cast-iron skillet and roast on middle rack until an instant-read thermometer inserted into the thickest part of breast registers 155°F, 50–60 minutes. (Temperature will climb to 165°F while chicken rests.) Let chicken rest in skillet at least 5 minutes, then transfer to a plate; reserve skillet.\n",
      "Meanwhile, roast squash on lower rack until mostly tender, about 25 minutes. Remove from oven and scatter reserved bread mixture over, spreading into as even a layer as you can manage. Return to oven and roast until bread is golden brown and crisp and apples are tender, about 15 minutes. Remove from oven, drain pickled onions, and toss to combine. Transfer to a serving dish.\n",
      "Using your fingers, mash flour and butter in a small bowl to combine.\n",
      "Set reserved skillet with chicken drippings over medium heat. You should have about ¼ cup, but a little over or under is all good. (If you have significantly more, drain off and set excess aside.) Add wine and cook, stirring often and scraping up any browned bits with a wooden spoon, until bits are loosened and wine is reduced by about half (you should be able to smell the wine), about 2 minutes. Add butter mixture; cook, stirring often, until a smooth paste forms, about 2 minutes. Add broth and any reserved drippings and cook, stirring constantly, until combined and thickened, 6–8 minutes. Remove from heat and stir in miso. Taste and season with salt and black pepper.\n",
      "Serve chicken with gravy and squash panzanella alongside.\n",
      "\n",
      "Image description: miso-butter-roast-chicken-acorn-squash-panzanella a white plate with chicken, potatoes and onions \n",
      "\n",
      "\n",
      "Dish name: Crispy Salt and Pepper Potatoes \n",
      "\n",
      " List of ingredients: \n",
      "• 2 large egg whites \n",
      "• 1 pound new potatoes (about 1 inch in diameter) \n",
      "• 2 teaspoons kosher salt \n",
      "• ¾ teaspoon finely ground black pepper \n",
      "• 1 teaspoon finely chopped rosemary \n",
      "• 1 teaspoon finely chopped thyme \n",
      "• 1 teaspoon finely chopped parsley \n",
      "\n",
      "Preparation instructions: Preheat oven to 400°F and line a rimmed baking sheet with parchment. In a large bowl, whisk the egg whites until foamy (there shouldn’t be any liquid whites in the bowl). Add the potatoes and toss until they’re well coated with the egg whites, then transfer to a strainer or colander and let the excess whites drain. Season the potatoes with the salt, pepper, and herbs. Scatter the potatoes on the baking sheet (make sure they’re not touching) and roast until the potatoes are very crispy and tender when poked with a knife, 15 to 20 minutes (depending on the size of the potatoes).\n",
      "Transfer to a bowl and serve.\n",
      "\n",
      "Image description: crispy-salt-and-pepper-potatoes-dan-kluger a plate of roasted potatoes with ranch sauce on the side \n",
      "\n",
      "\n",
      "Dish name: Thanksgiving Mac and Cheese \n",
      "\n",
      " List of ingredients: \n",
      "• 1 cup evaporated milk \n",
      "• 1 cup whole milk \n",
      "• 1 tsp. garlic powder \n",
      "• 1 tsp. onion powder \n",
      "• 1 tsp. smoked paprika \n",
      "• ½ tsp. freshly ground black pepper \n",
      "• 1 tsp. kosher salt, plus more \n",
      "• 2 lb. extra-sharp cheddar, coarsely grated \n",
      "• 4 oz. full-fat cream cheese \n",
      "• 1 lb. elbow macaroni \n",
      "\n",
      "Preparation instructions: Place a rack in middle of oven; preheat to 400°. Bring evaporated milk and whole milk to a bare simmer in a large saucepan over medium heat. Whisk in garlic powder, onion powder, paprika, pepper, and 1 tsp. salt. Working in batches, whisk in three fourths of the cheddar, then all of the cream cheese.\n",
      "Meanwhile, bring a large pot of generously salted water to a boil (it should have a little less salt than seawater). Cook macaroni, stirring occasionally, until very al dente, about 4 minutes. Drain in a colander.\n",
      "Add macaroni to cheese sauce in pan and mix until well coated. Evenly spread out half of macaroni mixture in a 13x9\" baking dish. Sprinkle half of remaining cheddar evenly over. Layer remaining macaroni mixture on top and sprinkle with remaining cheddar. Bake until all of the cheese is melted, about 10 minutes. Let cool slightly before serving.\n",
      "\n",
      "Image description: thanksgiving-mac-and-cheese-erick-williams an image of a casser filled with chicken and rice \n",
      "\n",
      "\n"
     ]
    }
   ],
   "source": [
    "for recepie in recepies[:3]:\n",
    "    print(recepie['Recepie'], '\\n\\n')"
   ]
  },
  {
   "cell_type": "code",
   "execution_count": 19,
   "metadata": {},
   "outputs": [
    {
     "name": "stdout",
     "output_type": "stream",
     "text": [
      "CPU times: total: 15.6 ms\n",
      "Wall time: 1.27 s\n"
     ]
    }
   ],
   "source": [
    "%%time\n",
    "sentences = [\"This is an example sentence\", \"Each sentence is converted\"]\n",
    "# Verifica si tienes una GPU disponible\n",
    "device = \"cuda\" if torch.cuda.is_available() else \"cpu\"\n",
    "\n",
    "model = SentenceTransformer('sentence-transformers/all-MiniLM-L6-v2').to(device)\n",
    "embeddings = model.encode(sentences, device=device)"
   ]
  },
  {
   "cell_type": "code",
   "execution_count": 14,
   "metadata": {},
   "outputs": [
    {
     "data": {
      "text/plain": [
       "[1, 2, 1]"
      ]
     },
     "execution_count": 14,
     "metadata": {},
     "output_type": "execute_result"
    }
   ],
   "source": [
    "ls = [[1,2],1]\n",
    "[item for sublist in ls for item in (sublist if isinstance(sublist, list) else [sublist])]"
   ]
  },
  {
   "cell_type": "markdown",
   "metadata": {},
   "source": [
    "miqueas 6:8"
   ]
  },
  {
   "cell_type": "markdown",
   "metadata": {},
   "source": [
    "### Adding image descriptions"
   ]
  },
  {
   "cell_type": "code",
   "execution_count": 22,
   "metadata": {},
   "outputs": [
    {
     "name": "stderr",
     "output_type": "stream",
     "text": [
      "d:\\Proyectos\\Docker\\Multimodal_RAG\\amb_mulrimodalrag\\Lib\\site-packages\\tqdm\\auto.py:21: TqdmWarning: IProgress not found. Please update jupyter and ipywidgets. See https://ipywidgets.readthedocs.io/en/stable/user_install.html\n",
      "  from .autonotebook import tqdm as notebook_tqdm\n"
     ]
    }
   ],
   "source": [
    "from transformers import BlipProcessor, BlipForConditionalGeneration\n",
    "from PIL import Image\n",
    "import requests\n",
    "import torch"
   ]
  },
  {
   "cell_type": "code",
   "execution_count": 23,
   "metadata": {},
   "outputs": [
    {
     "data": {
      "text/plain": [
       "BlipForConditionalGeneration(\n",
       "  (vision_model): BlipVisionModel(\n",
       "    (embeddings): BlipVisionEmbeddings(\n",
       "      (patch_embedding): Conv2d(3, 768, kernel_size=(16, 16), stride=(16, 16))\n",
       "    )\n",
       "    (encoder): BlipEncoder(\n",
       "      (layers): ModuleList(\n",
       "        (0-11): 12 x BlipEncoderLayer(\n",
       "          (self_attn): BlipAttention(\n",
       "            (dropout): Dropout(p=0.0, inplace=False)\n",
       "            (qkv): Linear(in_features=768, out_features=2304, bias=True)\n",
       "            (projection): Linear(in_features=768, out_features=768, bias=True)\n",
       "          )\n",
       "          (layer_norm1): LayerNorm((768,), eps=1e-05, elementwise_affine=True)\n",
       "          (mlp): BlipMLP(\n",
       "            (activation_fn): GELUActivation()\n",
       "            (fc1): Linear(in_features=768, out_features=3072, bias=True)\n",
       "            (fc2): Linear(in_features=3072, out_features=768, bias=True)\n",
       "          )\n",
       "          (layer_norm2): LayerNorm((768,), eps=1e-05, elementwise_affine=True)\n",
       "        )\n",
       "      )\n",
       "    )\n",
       "    (post_layernorm): LayerNorm((768,), eps=1e-05, elementwise_affine=True)\n",
       "  )\n",
       "  (text_decoder): BlipTextLMHeadModel(\n",
       "    (bert): BlipTextModel(\n",
       "      (embeddings): BlipTextEmbeddings(\n",
       "        (word_embeddings): Embedding(30524, 768, padding_idx=0)\n",
       "        (position_embeddings): Embedding(512, 768)\n",
       "        (LayerNorm): LayerNorm((768,), eps=1e-12, elementwise_affine=True)\n",
       "        (dropout): Dropout(p=0.0, inplace=False)\n",
       "      )\n",
       "      (encoder): BlipTextEncoder(\n",
       "        (layer): ModuleList(\n",
       "          (0-11): 12 x BlipTextLayer(\n",
       "            (attention): BlipTextAttention(\n",
       "              (self): BlipTextSelfAttention(\n",
       "                (query): Linear(in_features=768, out_features=768, bias=True)\n",
       "                (key): Linear(in_features=768, out_features=768, bias=True)\n",
       "                (value): Linear(in_features=768, out_features=768, bias=True)\n",
       "                (dropout): Dropout(p=0.0, inplace=False)\n",
       "              )\n",
       "              (output): BlipTextSelfOutput(\n",
       "                (dense): Linear(in_features=768, out_features=768, bias=True)\n",
       "                (LayerNorm): LayerNorm((768,), eps=1e-12, elementwise_affine=True)\n",
       "                (dropout): Dropout(p=0.0, inplace=False)\n",
       "              )\n",
       "            )\n",
       "            (crossattention): BlipTextAttention(\n",
       "              (self): BlipTextSelfAttention(\n",
       "                (query): Linear(in_features=768, out_features=768, bias=True)\n",
       "                (key): Linear(in_features=768, out_features=768, bias=True)\n",
       "                (value): Linear(in_features=768, out_features=768, bias=True)\n",
       "                (dropout): Dropout(p=0.0, inplace=False)\n",
       "              )\n",
       "              (output): BlipTextSelfOutput(\n",
       "                (dense): Linear(in_features=768, out_features=768, bias=True)\n",
       "                (LayerNorm): LayerNorm((768,), eps=1e-12, elementwise_affine=True)\n",
       "                (dropout): Dropout(p=0.0, inplace=False)\n",
       "              )\n",
       "            )\n",
       "            (intermediate): BlipTextIntermediate(\n",
       "              (dense): Linear(in_features=768, out_features=3072, bias=True)\n",
       "              (intermediate_act_fn): GELUActivation()\n",
       "            )\n",
       "            (output): BlipTextOutput(\n",
       "              (dense): Linear(in_features=3072, out_features=768, bias=True)\n",
       "              (LayerNorm): LayerNorm((768,), eps=1e-12, elementwise_affine=True)\n",
       "              (dropout): Dropout(p=0.0, inplace=False)\n",
       "            )\n",
       "          )\n",
       "        )\n",
       "      )\n",
       "    )\n",
       "    (cls): BlipTextOnlyMLMHead(\n",
       "      (predictions): BlipTextLMPredictionHead(\n",
       "        (transform): BlipTextPredictionHeadTransform(\n",
       "          (dense): Linear(in_features=768, out_features=768, bias=True)\n",
       "          (transform_act_fn): GELUActivation()\n",
       "          (LayerNorm): LayerNorm((768,), eps=1e-12, elementwise_affine=True)\n",
       "        )\n",
       "        (decoder): Linear(in_features=768, out_features=30524, bias=True)\n",
       "      )\n",
       "    )\n",
       "  )\n",
       ")"
      ]
     },
     "execution_count": 23,
     "metadata": {},
     "output_type": "execute_result"
    }
   ],
   "source": [
    "# Verificar si la GPU está disponible y mover el modelo\n",
    "device = torch.device(\"cuda\" if torch.cuda.is_available() else \"cpu\")\n",
    "# Cargar el modelo y el procesador\n",
    "processor_blip = BlipProcessor.from_pretrained(\"Salesforce/blip-image-captioning-base\")\n",
    "model_blip = BlipForConditionalGeneration.from_pretrained(\"Salesforce/blip-image-captioning-base\")\n",
    "model_blip.to(device)"
   ]
  },
  {
   "cell_type": "code",
   "execution_count": 70,
   "metadata": {},
   "outputs": [],
   "source": [
    "# Función para generar la descripción de una imagen\n",
    "def generate_image_description(image, processor, model, device, max_length=100, num_beams=7, temperature=1.0, top_p=0.9):\n",
    "    inputs = processor(image, return_tensors=\"pt\").to(device)\n",
    "    \n",
    "    # Generar la descripción con parámetros ajustados\n",
    "    outputs = model.generate(\n",
    "        **inputs,\n",
    "        max_length=max_length,           # Incrementa la longitud máxima\n",
    "        num_beams=num_beams,             # Beam search para exploración más detallada\n",
    "        temperature=temperature,         # Controla la creatividad\n",
    "        top_p=top_p,                     # Nucleus sampling para generar texto más variado\n",
    "        repetition_penalty=5.0,          # Penaliza la repetición de palabras\n",
    "        do_sample=True\n",
    "    )\n",
    "    \n",
    "    description = processor.decode(outputs[0], skip_special_tokens=True)\n",
    "    return description"
   ]
  },
  {
   "cell_type": "code",
   "execution_count": 71,
   "metadata": {},
   "outputs": [],
   "source": [
    "df = pd.read_csv(configs['paths']['recepies_path']['csv_ingredients'], usecols=['Title', 'Ingredients', 'Instructions', 'Image_Name'])\n",
    "df['Ingredients'] = df['Ingredients'].apply(lambda x: ast.literal_eval(x))\n",
    "images = os.listdir(configs['paths']['recepies_path']['images_folder'])\n",
    "images_processed = [img.replace('.jpg','') for img in images]\n",
    "final_df = df[df['Image_Name'].isin(images_processed)].copy()"
   ]
  },
  {
   "cell_type": "code",
   "execution_count": 97,
   "metadata": {},
   "outputs": [],
   "source": [
    "final_df['Image_paths'] = final_df['Image_Name'].apply(lambda name: os.path.join(configs['paths']['recepies_path']['images_folder'], name +'.jpg'))"
   ]
  },
  {
   "cell_type": "code",
   "execution_count": 100,
   "metadata": {},
   "outputs": [],
   "source": [
    "list_descriptions = []\n",
    "for index, row in final_df.iterrows():\n",
    "    dish = row['Image_Name']\n",
    "    image = Image.open(row['Image_paths']).convert(\"RGB\")\n",
    "    description = generate_image_description(image, processor_blip, model_blip, device)\n",
    "    list_descriptions.append(dish+ ' ' + description)\n",
    "final_df['Image_descriptions'] = list_descriptions"
   ]
  },
  {
   "cell_type": "code",
   "execution_count": 82,
   "metadata": {},
   "outputs": [
    {
     "name": "stdout",
     "output_type": "stream",
     "text": [
      "amaro spiked mocha with caramelized brioche a white plate topped with two small cups filled with chocolate\n",
      "amatriciana em guanciale tomato and pecorino romano em 51221210 a bowl of spaghetti with meat and vegetables\n",
      "amayas migas a pan of food sitting on top of a table\n"
     ]
    }
   ],
   "source": [
    "images_full_path = [os.path.join(configs['paths']['recepies_path']['images_folder'], image_name) for image_name in images]\n",
    "\n",
    "for img in images_full_path[:3]:\n",
    "    dish =img.split(os.sep)[-1].replace('.jpg', '').replace('-', ' ')\n",
    "    image = Image.open(img).convert(\"RGB\")\n",
    "    description = generate_image_description(image, processor_blip, model_blip, device)\n",
    "    print(dish+ ' ' + description)\n",
    "    # print(description)"
   ]
  },
  {
   "cell_type": "code",
   "execution_count": null,
   "metadata": {},
   "outputs": [],
   "source": [
    "filename='winter-fruit-kefir-salad.jpg'\n",
    "image_path = os.path.join('D:\\\\Proyectos\\\\Docker\\\\Multimodal_RAG\\\\RAGer_targaryen\\\\assets\\\\recepies\\\\Food_Images',\n",
    "                          filename)\n",
    "image = Image.open(image_path)\n",
    "\n",
    "description = generate_image_description(image, processor_blip, model_blip, max_length=50, num_beams=12)\n",
    "print(f\"Descripción de {filename}: {description}\")"
   ]
  },
  {
   "cell_type": "code",
   "execution_count": 22,
   "metadata": {},
   "outputs": [],
   "source": [
    "from transformers import VisionEncoderDecoderModel, ViTImageProcessor, AutoTokenizer\n"
   ]
  },
  {
   "cell_type": "code",
   "execution_count": 17,
   "metadata": {},
   "outputs": [
    {
     "name": "stdout",
     "output_type": "stream",
     "text": [
      "True\n"
     ]
    }
   ],
   "source": [
    "from transformers import BlipProcessor, BlipForConditionalGeneration\n",
    "from PIL import Image\n",
    "import requests\n",
    "import torch\n",
    "print(torch.cuda.is_available()) "
   ]
  },
  {
   "cell_type": "code",
   "execution_count": 19,
   "metadata": {},
   "outputs": [],
   "source": [
    "# Verificar si la GPU está disponible y mover el modelo\n",
    "device = torch.device(\"cuda\" if torch.cuda.is_available() else \"cpu\")"
   ]
  },
  {
   "cell_type": "code",
   "execution_count": 48,
   "metadata": {},
   "outputs": [
    {
     "data": {
      "text/plain": [
       "BlipForConditionalGeneration(\n",
       "  (vision_model): BlipVisionModel(\n",
       "    (embeddings): BlipVisionEmbeddings(\n",
       "      (patch_embedding): Conv2d(3, 768, kernel_size=(16, 16), stride=(16, 16))\n",
       "    )\n",
       "    (encoder): BlipEncoder(\n",
       "      (layers): ModuleList(\n",
       "        (0-11): 12 x BlipEncoderLayer(\n",
       "          (self_attn): BlipAttention(\n",
       "            (dropout): Dropout(p=0.0, inplace=False)\n",
       "            (qkv): Linear(in_features=768, out_features=2304, bias=True)\n",
       "            (projection): Linear(in_features=768, out_features=768, bias=True)\n",
       "          )\n",
       "          (layer_norm1): LayerNorm((768,), eps=1e-05, elementwise_affine=True)\n",
       "          (mlp): BlipMLP(\n",
       "            (activation_fn): GELUActivation()\n",
       "            (fc1): Linear(in_features=768, out_features=3072, bias=True)\n",
       "            (fc2): Linear(in_features=3072, out_features=768, bias=True)\n",
       "          )\n",
       "          (layer_norm2): LayerNorm((768,), eps=1e-05, elementwise_affine=True)\n",
       "        )\n",
       "      )\n",
       "    )\n",
       "    (post_layernorm): LayerNorm((768,), eps=1e-05, elementwise_affine=True)\n",
       "  )\n",
       "  (text_decoder): BlipTextLMHeadModel(\n",
       "    (bert): BlipTextModel(\n",
       "      (embeddings): BlipTextEmbeddings(\n",
       "        (word_embeddings): Embedding(30524, 768, padding_idx=0)\n",
       "        (position_embeddings): Embedding(512, 768)\n",
       "        (LayerNorm): LayerNorm((768,), eps=1e-12, elementwise_affine=True)\n",
       "        (dropout): Dropout(p=0.0, inplace=False)\n",
       "      )\n",
       "      (encoder): BlipTextEncoder(\n",
       "        (layer): ModuleList(\n",
       "          (0-11): 12 x BlipTextLayer(\n",
       "            (attention): BlipTextAttention(\n",
       "              (self): BlipTextSelfAttention(\n",
       "                (query): Linear(in_features=768, out_features=768, bias=True)\n",
       "                (key): Linear(in_features=768, out_features=768, bias=True)\n",
       "                (value): Linear(in_features=768, out_features=768, bias=True)\n",
       "                (dropout): Dropout(p=0.0, inplace=False)\n",
       "              )\n",
       "              (output): BlipTextSelfOutput(\n",
       "                (dense): Linear(in_features=768, out_features=768, bias=True)\n",
       "                (LayerNorm): LayerNorm((768,), eps=1e-12, elementwise_affine=True)\n",
       "                (dropout): Dropout(p=0.0, inplace=False)\n",
       "              )\n",
       "            )\n",
       "            (crossattention): BlipTextAttention(\n",
       "              (self): BlipTextSelfAttention(\n",
       "                (query): Linear(in_features=768, out_features=768, bias=True)\n",
       "                (key): Linear(in_features=768, out_features=768, bias=True)\n",
       "                (value): Linear(in_features=768, out_features=768, bias=True)\n",
       "                (dropout): Dropout(p=0.0, inplace=False)\n",
       "              )\n",
       "              (output): BlipTextSelfOutput(\n",
       "                (dense): Linear(in_features=768, out_features=768, bias=True)\n",
       "                (LayerNorm): LayerNorm((768,), eps=1e-12, elementwise_affine=True)\n",
       "                (dropout): Dropout(p=0.0, inplace=False)\n",
       "              )\n",
       "            )\n",
       "            (intermediate): BlipTextIntermediate(\n",
       "              (dense): Linear(in_features=768, out_features=3072, bias=True)\n",
       "              (intermediate_act_fn): GELUActivation()\n",
       "            )\n",
       "            (output): BlipTextOutput(\n",
       "              (dense): Linear(in_features=3072, out_features=768, bias=True)\n",
       "              (LayerNorm): LayerNorm((768,), eps=1e-12, elementwise_affine=True)\n",
       "              (dropout): Dropout(p=0.0, inplace=False)\n",
       "            )\n",
       "          )\n",
       "        )\n",
       "      )\n",
       "    )\n",
       "    (cls): BlipTextOnlyMLMHead(\n",
       "      (predictions): BlipTextLMPredictionHead(\n",
       "        (transform): BlipTextPredictionHeadTransform(\n",
       "          (dense): Linear(in_features=768, out_features=768, bias=True)\n",
       "          (transform_act_fn): GELUActivation()\n",
       "          (LayerNorm): LayerNorm((768,), eps=1e-12, elementwise_affine=True)\n",
       "        )\n",
       "        (decoder): Linear(in_features=768, out_features=30524, bias=True)\n",
       "      )\n",
       "    )\n",
       "  )\n",
       ")"
      ]
     },
     "execution_count": 48,
     "metadata": {},
     "output_type": "execute_result"
    }
   ],
   "source": [
    "# Cargar el modelo y el procesador\n",
    "processor_blip = BlipProcessor.from_pretrained(\"Salesforce/blip-image-captioning-base\")\n",
    "model_blip = BlipForConditionalGeneration.from_pretrained(\"Salesforce/blip-image-captioning-base\")\n",
    "model_blip.to(device)"
   ]
  },
  {
   "cell_type": "code",
   "execution_count": null,
   "metadata": {},
   "outputs": [],
   "source": [
    "{'max_length': 100, 'num_beams': 5, 'temperature': 1.0, 'top_k': 150, 'top_p': 0.9, 'do_sample': True}"
   ]
  },
  {
   "cell_type": "code",
   "execution_count": 52,
   "metadata": {},
   "outputs": [],
   "source": [
    "# Función para generar la descripción de una imagen\n",
    "def generate_image_description(image, processor, model, max_length=150, num_beams=5, temperature=1.0, top_p=0.9):\n",
    "    inputs = processor(image, return_tensors=\"pt\").to(device)\n",
    "    \n",
    "    # Generar la descripción con parámetros ajustados\n",
    "    outputs = model.generate(\n",
    "        **inputs,\n",
    "        max_length=max_length,           # Incrementa la longitud máxima\n",
    "        num_beams=num_beams,             # Beam search para exploración más detallada\n",
    "        temperature=temperature,         # Controla la creatividad\n",
    "        top_p=top_p,                     # Nucleus sampling para generar texto más variado\n",
    "        repetition_penalty=1           # Penaliza la repetición de palabras\n",
    "    )\n",
    "    \n",
    "    description = processor.decode(outputs[0], skip_special_tokens=True)\n",
    "    return description"
   ]
  },
  {
   "cell_type": "code",
   "execution_count": 53,
   "metadata": {},
   "outputs": [],
   "source": [
    "filename='winter-fruit-kefir-salad.jpg'\n",
    "image_path = os.path.join('D:\\\\Proyectos\\\\Docker\\\\Multimodal_RAG\\\\RAGer_targaryen\\\\assets\\\\recepies\\\\Food_Images',\n",
    "                          filename)\n",
    "image = Image.open(image_path)\n",
    "\n",
    "description = generate_image_description(image, processor_blip, model_blip, max_length=50, num_beams=12)\n",
    "print(f\"Descripción de {filename}: {description}\")"
   ]
  },
  {
   "cell_type": "code",
   "execution_count": 54,
   "metadata": {},
   "outputs": [
    {
     "name": "stdout",
     "output_type": "stream",
     "text": [
      "Descripción de winter-fruit-kefir-salad.jpg: a bowl filled with fruit and vegetables on top of a wooden cutting board\n"
     ]
    }
   ],
   "source": [
    "description = generate_image_description(image, processor_blip, model_blip, max_length=50, num_beams=12)\n",
    "print(f\"Descripción de {filename}: {description}\")"
   ]
  },
  {
   "cell_type": "code",
   "execution_count": 20,
   "metadata": {},
   "outputs": [
    {
     "name": "stderr",
     "output_type": "stream",
     "text": [
      "d:\\Proyectos\\Docker\\Multimodal_RAG\\amb_mulrimodalrag\\Lib\\site-packages\\huggingface_hub\\file_download.py:139: UserWarning: `huggingface_hub` cache-system uses symlinks by default to efficiently store duplicated files but your machine does not support them in C:\\Users\\byacu\\.cache\\huggingface\\hub\\models--nlpconnect--vit-gpt2-image-captioning. Caching files will still work but in a degraded version that might require more space on your disk. This warning can be disabled by setting the `HF_HUB_DISABLE_SYMLINKS_WARNING` environment variable. For more details, see https://huggingface.co/docs/huggingface_hub/how-to-cache#limitations.\n",
      "To support symlinks on Windows, you either need to activate Developer Mode or to run Python as an administrator. In order to activate developer mode, see this article: https://docs.microsoft.com/en-us/windows/apps/get-started/enable-your-device-for-development\n",
      "  warnings.warn(message)\n",
      "d:\\Proyectos\\Docker\\Multimodal_RAG\\amb_mulrimodalrag\\Lib\\site-packages\\transformers\\models\\vit\\feature_extraction_vit.py:28: FutureWarning: The class ViTFeatureExtractor is deprecated and will be removed in version 5 of Transformers. Please use ViTImageProcessor instead.\n",
      "  warnings.warn(\n",
      "VisionEncoderDecoderModel has generative capabilities, as `prepare_inputs_for_generation` is explicitly overwritten. However, it doesn't directly inherit from `GenerationMixin`. From 👉v4.50👈 onwards, `PreTrainedModel` will NOT inherit from `GenerationMixin`, and this model will lose the ability to call `generate` and other related functions.\n",
      "  - If you're using `trust_remote_code=True`, you can get rid of this warning by loading the model with an auto class. See https://huggingface.co/docs/transformers/en/model_doc/auto#auto-classes\n",
      "  - If you are the owner of the model architecture code, please modify your model class such that it inherits from `GenerationMixin` (after `PreTrainedModel`, otherwise you'll get an exception).\n",
      "  - If you are not the owner of the model architecture class, please contact the model code owner to update it.\n",
      "The attention mask is not set and cannot be inferred from input because pad token is same as eos token. As a consequence, you may observe unexpected behavior. Please pass your input's `attention_mask` to obtain reliable results.\n",
      "We strongly recommend passing in an `attention_mask` since your input_ids may be padded. See https://huggingface.co/docs/transformers/troubleshooting#incorrect-output-when-padding-tokens-arent-masked.\n",
      "You may ignore this warning if your `pad_token_id` (50256) is identical to the `bos_token_id` (50256), `eos_token_id` (50256), or the `sep_token_id` (None), and your input is not padded.\n"
     ]
    },
    {
     "name": "stdout",
     "output_type": "stream",
     "text": [
      "Descripción de la imagen: a white plate topped with vegetables and meat \n"
     ]
    }
   ],
   "source": [
    "# Cargar el modelo y el tokenizer\n",
    "feature_extractor = ViTImageProcessor.from_pretrained(\"nlpconnect/vit-gpt2-image-captioning\")\n",
    "tokenizer = AutoTokenizer.from_pretrained(\"nlpconnect/vit-gpt2-image-captioning\")\n",
    "model = VisionEncoderDecoderModel.from_pretrained(\"nlpconnect/vit-gpt2-image-captioning\").to(device)\n",
    "\n",
    "# Función para generar la descripción de la imagen\n",
    "def generate_image_description_vit(image):\n",
    "    # Procesar la imagen y convertirla al formato requerido por el modelo\n",
    "    inputs = feature_extractor(images=image, return_tensors=\"pt\").to(device)\n",
    "    # Generar la descripción usando el modelo\n",
    "    output_ids = model.generate(inputs[\"pixel_values\"], max_length=50, num_beams=4)\n",
    "    # Decodificar la salida en texto legible\n",
    "    description = tokenizer.decode(output_ids[0], skip_special_tokens=True)\n",
    "    return description\n",
    "\n",
    "# Ruta de la imagen\n",
    "image_path = 'D:\\\\Proyectos\\\\Docker\\\\Multimodal_RAG\\\\RAGer_targaryen\\\\assets\\\\recepies\\\\Food_Images\\\\winter-fruit-kefir-salad.jpg'\n",
    "\n",
    "# Cargar la imagen\n",
    "image = Image.open(image_path).convert(\"RGB\")\n",
    "\n",
    "# Generar y mostrar la descripción\n",
    "description = generate_image_description_vit(image)\n",
    "print(\"Descripción de la imagen:\", description)"
   ]
  },
  {
   "cell_type": "code",
   "execution_count": 23,
   "metadata": {},
   "outputs": [],
   "source": [
    "import os\n",
    "from transformers import VisionEncoderDecoderModel, ViTImageProcessor, AutoTokenizer\n",
    "from PIL import Image\n",
    "import torch\n",
    "\n",
    "# Configuración del dispositivo\n",
    "device = \"cuda\" if torch.cuda.is_available() else \"cpu\""
   ]
  },
  {
   "cell_type": "code",
   "execution_count": 24,
   "metadata": {},
   "outputs": [],
   "source": [
    "# Evitar el warning de symlinks en Windows\n",
    "# os.environ[\"HF_HUB_DISABLE_SYMLINKS_WARNING\"] = \"1\""
   ]
  },
  {
   "cell_type": "code",
   "execution_count": 32,
   "metadata": {},
   "outputs": [],
   "source": [
    "# Cargar el modelo, procesador de imágenes y el tokenizer\n",
    "image_processor = ViTImageProcessor.from_pretrained(\"nlpconnect/vit-gpt2-image-captioning\")\n",
    "tokenizer = AutoTokenizer.from_pretrained(\"nlpconnect/vit-gpt2-image-captioning\")\n",
    "model = VisionEncoderDecoderModel.from_pretrained(\"nlpconnect/vit-gpt2-image-captioning\").to(device)\n",
    "\n",
    "# Función para generar una descripción de imagen con un output más extenso\n",
    "def generate_image_description_vit(image):\n",
    "    # Procesar la imagen y obtener la atención\n",
    "    inputs = image_processor(images=image, return_tensors=\"pt\").to(device)\n",
    "    attention_mask = inputs[\"pixel_values\"]  # Utilizar la máscara de atención para evitar problemas de padding\n",
    "\n",
    "    # Generar la descripción con parámetros ajustados para obtener un texto más detallado\n",
    "    output_ids = model.generate(\n",
    "        inputs[\"pixel_values\"],                  # Procesa la imagen para el modelo\n",
    "        attention_mask=attention_mask,           # Evita comportamientos inesperados en el padding\n",
    "        max_length=300,                          # Extiende la longitud máxima para descripciones más detalladas\n",
    "        num_beams=10,                             # Número de haces para mejorar la calidad del texto (valores recomendados: 3-10)\n",
    "        no_repeat_ngram_size=2,                  # Evita repeticiones al establecer la longitud de n-gramas\n",
    "        do_sample=True,                          # Si se pone en false el argumento temperatura se quita                                        \n",
    "        temperature=1,                         # Controla la creatividad (valores recomendados: 0.7 - 1.0)\n",
    "        top_k=100,                                # Limita la selección de palabras a las 50 más probables\n",
    "        top_p=0.9                                # Filtra las palabras con una probabilidad acumulativa de 0.9 (para variar la salida)\n",
    "    )\n",
    "\n",
    "    # Decodificar la salida en texto legible\n",
    "    description = tokenizer.decode(output_ids[0], skip_special_tokens=True)\n",
    "    return description"
   ]
  },
  {
   "cell_type": "code",
   "execution_count": 33,
   "metadata": {},
   "outputs": [
    {
     "name": "stdout",
     "output_type": "stream",
     "text": [
      "Descripción de la imagen: a plate of food on a table \n",
      "CPU times: total: 93.8 ms\n",
      "Wall time: 183 ms\n"
     ]
    }
   ],
   "source": [
    "%%time\n",
    "# Ruta de la imagen\n",
    "image_path = 'D:\\\\Proyectos\\\\Docker\\\\Multimodal_RAG\\\\RAGer_targaryen\\\\assets\\\\recepies\\\\Food_Images\\\\winter-fruit-kefir-salad.jpg'\n",
    "\n",
    "# Cargar la imagen\n",
    "image = Image.open(image_path).convert(\"RGB\")\n",
    "\n",
    "# Generar y mostrar la descripción\n",
    "description = generate_image_description_vit(image)\n",
    "print(\"Descripción de la imagen:\", description)"
   ]
  },
  {
   "cell_type": "code",
   "execution_count": 42,
   "metadata": {},
   "outputs": [],
   "source": [
    "# Función para evaluar la calidad de la descripción\n",
    "def evaluate_description(description):\n",
    "    words = description.split()\n",
    "    word_count = len(words)\n",
    "    unique_word_count = len(set(words))\n",
    "    repetition_penalty = (word_count - unique_word_count) / word_count  # Penalización por repeticiones\n",
    "    return word_count, repetition_penalty\n",
    "\n",
    "# Función para probar diferentes combinaciones de hiperparámetros y encontrar la mejor\n",
    "def optimize_caption_generation(image, max_length_values, num_beams_values, temperature_values, top_k_values, top_p_values):\n",
    "    best_description = \"\"\n",
    "    best_score = 0\n",
    "    best_params = {}\n",
    "\n",
    "    for max_length in max_length_values:\n",
    "        for num_beams in num_beams_values:\n",
    "            for temperature in temperature_values:\n",
    "                for top_k in top_k_values:\n",
    "                    for top_p in top_p_values:\n",
    "                        # Configurar `do_sample` dependiendo de `temperature`\n",
    "                        do_sample = True if temperature is not None else False\n",
    "\n",
    "                        # Generar la descripción con la combinación actual de hiperparámetros\n",
    "                        inputs = image_processor(images=image, return_tensors=\"pt\").to(device)\n",
    "                        output_ids = model.generate(\n",
    "                            inputs[\"pixel_values\"],\n",
    "                            max_length=max_length,\n",
    "                            num_beams=num_beams,\n",
    "                            temperature=temperature if do_sample else None,  # Usar temperatura solo si do_sample=True\n",
    "                            top_k=top_k,\n",
    "                            top_p=top_p,\n",
    "                            do_sample=do_sample,\n",
    "                            no_repeat_ngram_size=2  # Fijar a 2 para reducir repeticiones\n",
    "                        )\n",
    "                        description = tokenizer.decode(output_ids[0], skip_special_tokens=True)\n",
    "                        \n",
    "                        # Evaluar la calidad de la descripción\n",
    "                        length_score, repetition_penalty = evaluate_description(description)\n",
    "                        score = length_score * (1 - repetition_penalty)  # Ponderación por longitud y penalización\n",
    "\n",
    "                        # Actualizar si encontramos una mejor descripción\n",
    "                        if score > best_score:\n",
    "                            best_score = score\n",
    "                            best_description = description\n",
    "                            best_params = {\n",
    "                                \"max_length\": max_length,\n",
    "                                \"num_beams\": num_beams,\n",
    "                                \"temperature\": temperature,\n",
    "                                \"top_k\": top_k,\n",
    "                                \"top_p\": top_p,\n",
    "                                \"do_sample\": do_sample\n",
    "                            }\n",
    "    \n",
    "    return best_description, best_params\n"
   ]
  },
  {
   "cell_type": "code",
   "execution_count": 43,
   "metadata": {},
   "outputs": [
    {
     "name": "stdout",
     "output_type": "stream",
     "text": [
      "Mejor descripción: a white plate filled with lots of food on top of a wooden table \n",
      "Mejores parámetros: {'max_length': 100, 'num_beams': 5, 'temperature': 1.0, 'top_k': 150, 'top_p': 0.9, 'do_sample': True}\n"
     ]
    }
   ],
   "source": [
    "# Definir los valores de hiperparámetros para probar\n",
    "max_length_values = [50, 75, 100, 150]\n",
    "num_beams_values = [3, 5, 7, 10]\n",
    "temperature_values = [None, 0.5, 0.7, 0.9, 1.0]\n",
    "top_k_values = [30, 50, 100, 150]\n",
    "top_p_values = [0.5, 0.7, 0.8, 0.9, 0.95]\n",
    "\n",
    "# Ruta de la imagen\n",
    "image_path = 'D:\\\\Proyectos\\\\Docker\\\\Multimodal_RAG\\\\RAGer_targaryen\\\\assets\\\\recepies\\\\Food_Images\\\\winter-fruit-kefir-salad.jpg'\n",
    "image = Image.open(image_path).convert(\"RGB\")\n",
    "\n",
    "# Ejecutar la optimización\n",
    "best_description, best_params = optimize_caption_generation(\n",
    "    image, max_length_values, num_beams_values, temperature_values, top_k_values, top_p_values\n",
    ")\n",
    "\n",
    "print(\"Mejor descripción:\", best_description)\n",
    "print(\"Mejores parámetros:\", best_params)"
   ]
  },
  {
   "cell_type": "code",
   "execution_count": 22,
   "metadata": {},
   "outputs": [
    {
     "data": {
      "text/plain": [
       "BlipForConditionalGeneration(\n",
       "  (vision_model): BlipVisionModel(\n",
       "    (embeddings): BlipVisionEmbeddings(\n",
       "      (patch_embedding): Conv2d(3, 768, kernel_size=(16, 16), stride=(16, 16))\n",
       "    )\n",
       "    (encoder): BlipEncoder(\n",
       "      (layers): ModuleList(\n",
       "        (0-11): 12 x BlipEncoderLayer(\n",
       "          (self_attn): BlipAttention(\n",
       "            (dropout): Dropout(p=0.0, inplace=False)\n",
       "            (qkv): Linear(in_features=768, out_features=2304, bias=True)\n",
       "            (projection): Linear(in_features=768, out_features=768, bias=True)\n",
       "          )\n",
       "          (layer_norm1): LayerNorm((768,), eps=1e-05, elementwise_affine=True)\n",
       "          (mlp): BlipMLP(\n",
       "            (activation_fn): GELUActivation()\n",
       "            (fc1): Linear(in_features=768, out_features=3072, bias=True)\n",
       "            (fc2): Linear(in_features=3072, out_features=768, bias=True)\n",
       "          )\n",
       "          (layer_norm2): LayerNorm((768,), eps=1e-05, elementwise_affine=True)\n",
       "        )\n",
       "      )\n",
       "    )\n",
       "    (post_layernorm): LayerNorm((768,), eps=1e-05, elementwise_affine=True)\n",
       "  )\n",
       "  (text_decoder): BlipTextLMHeadModel(\n",
       "    (bert): BlipTextModel(\n",
       "      (embeddings): BlipTextEmbeddings(\n",
       "        (word_embeddings): Embedding(30524, 768, padding_idx=0)\n",
       "        (position_embeddings): Embedding(512, 768)\n",
       "        (LayerNorm): LayerNorm((768,), eps=1e-12, elementwise_affine=True)\n",
       "        (dropout): Dropout(p=0.0, inplace=False)\n",
       "      )\n",
       "      (encoder): BlipTextEncoder(\n",
       "        (layer): ModuleList(\n",
       "          (0-11): 12 x BlipTextLayer(\n",
       "            (attention): BlipTextAttention(\n",
       "              (self): BlipTextSelfAttention(\n",
       "                (query): Linear(in_features=768, out_features=768, bias=True)\n",
       "                (key): Linear(in_features=768, out_features=768, bias=True)\n",
       "                (value): Linear(in_features=768, out_features=768, bias=True)\n",
       "                (dropout): Dropout(p=0.0, inplace=False)\n",
       "              )\n",
       "              (output): BlipTextSelfOutput(\n",
       "                (dense): Linear(in_features=768, out_features=768, bias=True)\n",
       "                (LayerNorm): LayerNorm((768,), eps=1e-12, elementwise_affine=True)\n",
       "                (dropout): Dropout(p=0.0, inplace=False)\n",
       "              )\n",
       "            )\n",
       "            (crossattention): BlipTextAttention(\n",
       "              (self): BlipTextSelfAttention(\n",
       "                (query): Linear(in_features=768, out_features=768, bias=True)\n",
       "                (key): Linear(in_features=768, out_features=768, bias=True)\n",
       "                (value): Linear(in_features=768, out_features=768, bias=True)\n",
       "                (dropout): Dropout(p=0.0, inplace=False)\n",
       "              )\n",
       "              (output): BlipTextSelfOutput(\n",
       "                (dense): Linear(in_features=768, out_features=768, bias=True)\n",
       "                (LayerNorm): LayerNorm((768,), eps=1e-12, elementwise_affine=True)\n",
       "                (dropout): Dropout(p=0.0, inplace=False)\n",
       "              )\n",
       "            )\n",
       "            (intermediate): BlipTextIntermediate(\n",
       "              (dense): Linear(in_features=768, out_features=3072, bias=True)\n",
       "              (intermediate_act_fn): GELUActivation()\n",
       "            )\n",
       "            (output): BlipTextOutput(\n",
       "              (dense): Linear(in_features=3072, out_features=768, bias=True)\n",
       "              (LayerNorm): LayerNorm((768,), eps=1e-12, elementwise_affine=True)\n",
       "              (dropout): Dropout(p=0.0, inplace=False)\n",
       "            )\n",
       "          )\n",
       "        )\n",
       "      )\n",
       "    )\n",
       "    (cls): BlipTextOnlyMLMHead(\n",
       "      (predictions): BlipTextLMPredictionHead(\n",
       "        (transform): BlipTextPredictionHeadTransform(\n",
       "          (dense): Linear(in_features=768, out_features=768, bias=True)\n",
       "          (transform_act_fn): GELUActivation()\n",
       "          (LayerNorm): LayerNorm((768,), eps=1e-12, elementwise_affine=True)\n",
       "        )\n",
       "        (decoder): Linear(in_features=768, out_features=30524, bias=True)\n",
       "      )\n",
       "    )\n",
       "  )\n",
       ")"
      ]
     },
     "execution_count": 22,
     "metadata": {},
     "output_type": "execute_result"
    }
   ],
   "source": [
    "# Verificar si la GPU está disponible y mover el modelo\n",
    "device = torch.device(\"cuda\" if torch.cuda.is_available() else \"cpu\")\n",
    "model_blip.to(device)"
   ]
  },
  {
   "cell_type": "code",
   "execution_count": 42,
   "metadata": {},
   "outputs": [],
   "source": [
    "# # Función para generar la descripción de una imagen\n",
    "# def generate_image_description(image, processor, model):\n",
    "#     inputs = processor(image, return_tensors=\"pt\").to(device)\n",
    "#     outputs = model.generate(**inputs)\n",
    "#     description = processor.decode(outputs[0], skip_special_tokens=True)\n",
    "#     return description\n",
    "\n",
    "# Función para generar la descripción de una imagen\n",
    "def generate_image_description(image, processor, model,max_length=350, num_beams=10, temperature=1.0, top_p=0.9):\n",
    "    inputs = processor(image, return_tensors=\"pt\").to(device)\n",
    "    \n",
    "    # Generar la descripción con parámetros ajustados\n",
    "    outputs = model.generate(\n",
    "        **inputs,\n",
    "        max_length=max_length,           # Incrementa la longitud máxima\n",
    "        num_beams=num_beams,             # Beam search para exploración más detallada\n",
    "        temperature=temperature,         # Controla la creatividad\n",
    "        top_p=top_p,                     # Nucleus sampling para generar texto más variado\n",
    "        repetition_penalty=1           # Penaliza la repetición de palabras\n",
    "    )\n",
    "    \n",
    "    description = processor.decode(outputs[0], skip_special_tokens=True)\n",
    "    return description"
   ]
  },
  {
   "cell_type": "code",
   "execution_count": null,
   "metadata": {},
   "outputs": [],
   "source": [
    "import torch\n",
    "from PIL import Image\n",
    "from transformers import GPT2LMHeadModel, GPT2Tokenizer\n",
    "import clip\n",
    "\n",
    "# Cargar el modelo CLIP y el tokenizador\n",
    "device = \"cuda\" if torch.cuda.is_available() else \"cpu\"\n",
    "clip_model, preprocess = clip.load(\"ViT-B/32\", device=device)\n",
    "\n",
    "# Cargar el modelo y el tokenizador GPT-2\n",
    "gpt2_model = GPT2LMHeadModel.from_pretrained(\"gpt2\")\n",
    "gpt2_model.to(device)\n",
    "gpt2_tokenizer = GPT2Tokenizer.from_pretrained(\"gpt2\")\n",
    "\n",
    "# Función para procesar la imagen y extraer características con CLIP\n",
    "def get_image_features(image_path):\n",
    "    image = preprocess(Image.open(image_path)).unsqueeze(0).to(device)\n",
    "    with torch.no_grad():\n",
    "        image_features = clip_model.encode_image(image)\n",
    "    return image_features\n",
    "\n",
    "# Función para generar una descripción usando GPT-2\n",
    "def generate_description(image_path):\n",
    "    # Extraer características de la imagen con CLIP\n",
    "    image_features = get_image_features(image_path)\n",
    "    # Convertir las características en texto (simulando un prompt básico para el ejemplo)\n",
    "    # En este caso, estamos agregando un contexto basado en el hecho de que CLIP analizó la imagen.\n",
    "    prompt = \"Based on the image analysis, it shows: \"\n",
    "    # Convertir el prompt en IDs de entrada para GPT-2\n",
    "    input_ids = gpt2_tokenizer(prompt, return_tensors=\"pt\").input_ids.to(device)\n",
    "    # Generar la descripción con GPT-2\n",
    "    output_ids = gpt2_model.generate(\n",
    "        input_ids,\n",
    "        max_length=50,\n",
    "        num_return_sequences=1,\n",
    "        temperature=0.7,\n",
    "        do_sample=True\n",
    "    )\n",
    "    description = gpt2_tokenizer.decode(output_ids[0], skip_special_tokens=True)\n",
    "    return description\n",
    "\n",
    "# Ruta de la imagen\n",
    "image_path = 'D:\\\\Proyectos\\\\Docker\\\\Multimodal_RAG\\\\RAGer_targaryen\\\\assets\\\\recepies\\\\Food_Images\\\\winter-fruit-kefir-salad.jpg'\n",
    "\n",
    "# Generar y mostrar la descripción\n",
    "description = generate_description(image_path)\n",
    "print(\"Descripción de la imagen:\", description)"
   ]
  },
  {
   "cell_type": "code",
   "execution_count": 43,
   "metadata": {},
   "outputs": [
    {
     "data": {
      "text/plain": [
       "'a bowl filled with fruit and vegetables on top of a wooden cutting board'"
      ]
     },
     "execution_count": 43,
     "metadata": {},
     "output_type": "execute_result"
    }
   ],
   "source": [
    "filename='winter-fruit-kefir-salad.jpg'\n",
    "image_path = os.path.join('D:\\\\Proyectos\\\\Docker\\\\Multimodal_RAG\\\\RAGer_targaryen\\\\assets\\\\recepies\\\\Food_Images',\n",
    "                          filename)\n",
    "image = Image.open(image_path)\n",
    "generate_image_description(image, processor_blip, model_blip)"
   ]
  },
  {
   "cell_type": "code",
   "execution_count": 36,
   "metadata": {},
   "outputs": [
    {
     "data": {
      "image/jpeg": "[encoded data removed]",
      "image/png": "[encoded data removed]",
      "text/plain": [
       "<PIL.JpegImagePlugin.JpegImageFile image mode=RGB size=274x169>"
      ]
     },
     "execution_count": 36,
     "metadata": {},
     "output_type": "execute_result"
    }
   ],
   "source": [
    "image"
   ]
  },
  {
   "cell_type": "code",
   "execution_count": 32,
   "metadata": {},
   "outputs": [
    {
     "name": "stdout",
     "output_type": "stream",
     "text": [
      "Dish_name: Miso-Butter Roast Chicken With Acorn Squash Panzanella \n",
      "\n",
      " List of ingredients: 1 (3½–4-lb.) whole chicken \n",
      " 2¾ tsp. kosher salt, divided, plus more \n",
      " 2 small acorn squash (about 3 lb. total) \n",
      " 2 Tbsp. finely chopped sage \n",
      " 1 Tbsp. finely chopped rosemary \n",
      " 6 Tbsp. unsalted butter, melted, plus 3 Tbsp. room temperature \n",
      " ¼ tsp. ground allspice \n",
      " Pinch of crushed red pepper flakes \n",
      " Freshly ground black pepper \n",
      " ⅓ loaf good-quality sturdy white bread, torn into 1\" pieces (about 2½ cups) \n",
      " 2 medium apples (such as Gala or Pink Lady; about 14 oz. total), cored, cut into 1\" pieces \n",
      " 2 Tbsp. extra-virgin olive oil \n",
      " ½ small red onion, thinly sliced \n",
      " 3 Tbsp. apple cider vinegar \n",
      " 1 Tbsp. white miso \n",
      " ¼ cup all-purpose flour \n",
      " 2 Tbsp. unsalted butter, room temperature \n",
      " ¼ cup dry white wine \n",
      " 2 cups unsalted chicken broth \n",
      " 2 tsp. white miso \n",
      " Kosher salt, freshly ground pepper \n",
      "\n",
      " Preparation instructions: Pat chicken dry with paper towels, season all over with 2 tsp. salt, and tie legs together with kitchen twine. Let sit at room temperature 1 hour.\n",
      "Meanwhile, halve squash and scoop out seeds. Run a vegetable peeler along ridges of squash halves to remove skin. Cut each half into ½\"-thick wedges; arrange on a rimmed baking sheet.\n",
      "Combine sage, rosemary, and 6 Tbsp. melted butter in a large bowl; pour half of mixture over squash on baking sheet. Sprinkle squash with allspice, red pepper flakes, and ½ tsp. salt and season with black pepper; toss to coat.\n",
      "Add bread, apples, oil, and ¼ tsp. salt to remaining herb butter in bowl; season with black pepper and toss to combine. Set aside.\n",
      "Place onion and vinegar in a small bowl; season with salt and toss to coat. Let sit, tossing occasionally, until ready to serve.\n",
      "Place a rack in middle and lower third of oven; preheat to 425°F. Mix miso and 3 Tbsp. room-temperature butter in a small bowl until smooth. Pat chicken dry with paper towels, then rub or brush all over with miso butter. Place chicken in a large cast-iron skillet and roast on middle rack until an instant-read thermometer inserted into the thickest part of breast registers 155°F, 50–60 minutes. (Temperature will climb to 165°F while chicken rests.) Let chicken rest in skillet at least 5 minutes, then transfer to a plate; reserve skillet.\n",
      "Meanwhile, roast squash on lower rack until mostly tender, about 25 minutes. Remove from oven and scatter reserved bread mixture over, spreading into as even a layer as you can manage. Return to oven and roast until bread is golden brown and crisp and apples are tender, about 15 minutes. Remove from oven, drain pickled onions, and toss to combine. Transfer to a serving dish.\n",
      "Using your fingers, mash flour and butter in a small bowl to combine.\n",
      "Set reserved skillet with chicken drippings over medium heat. You should have about ¼ cup, but a little over or under is all good. (If you have significantly more, drain off and set excess aside.) Add wine and cook, stirring often and scraping up any browned bits with a wooden spoon, until bits are loosened and wine is reduced by about half (you should be able to smell the wine), about 2 minutes. Add butter mixture; cook, stirring often, until a smooth paste forms, about 2 minutes. Add broth and any reserved drippings and cook, stirring constantly, until combined and thickened, 6–8 minutes. Remove from heat and stir in miso. Taste and season with salt and black pepper.\n",
      "Serve chicken with gravy and squash panzanella alongside.\n"
     ]
    }
   ],
   "source": [
    "dish_name = 'Dish_name: ' +  final_df['Title'][0] + ' \\n\\n '\n",
    "ingredients_string = dish_name + 'List of ingredients: '+ \" \\n \".join(final_df['Ingredients'][0])\n",
    "ingredients_string = ingredients_string + \" \\n\\n \"\n",
    "final_text = ingredients_string + 'Preparation instructions: ' + final_df['Instructions'][0]\n",
    "\n",
    "print(final_text)"
   ]
  },
  {
   "cell_type": "markdown",
   "metadata": {},
   "source": [
    "### data base creation"
   ]
  },
  {
   "cell_type": "code",
   "execution_count": 1,
   "metadata": {},
   "outputs": [],
   "source": [
    "from utilities.configure_script import ConfigurationLoader\n",
    "from utilities.utils import read_json, read_txt"
   ]
  },
  {
   "cell_type": "code",
   "execution_count": 2,
   "metadata": {},
   "outputs": [],
   "source": [
    "configs = ConfigurationLoader.get_config()"
   ]
  },
  {
   "cell_type": "code",
   "execution_count": 3,
   "metadata": {},
   "outputs": [
    {
     "data": {
      "text/plain": [
       "'.\\\\assets\\\\recepies_chunked.json'"
      ]
     },
     "execution_count": 3,
     "metadata": {},
     "output_type": "execute_result"
    }
   ],
   "source": [
    "configs['paths']['recepies_path']['recepies_chunked_json']"
   ]
  },
  {
   "cell_type": "code",
   "execution_count": 4,
   "metadata": {},
   "outputs": [],
   "source": [
    "data = read_json(configs['paths']['recepies_path']['recepies_chunked_json'])"
   ]
  },
  {
   "cell_type": "code",
   "execution_count": 9,
   "metadata": {},
   "outputs": [
    {
     "data": {
      "text/plain": [
       "[{'Recepie': 'Dish name: Miso-Butter Roast Chicken With Acorn Squash Panzanella \\n\\n List of ingredients: \\n• 1 (3½–4-lb.) whole chicken \\n• 2¾ tsp. kosher salt, divided, plus more \\n• 2 small acorn squash (about 3 lb. total) \\n• 2 Tbsp. finely chopped sage \\n• 1 Tbsp. finely chopped rosemary \\n• 6 Tbsp. unsalted butter, melted, plus 3 Tbsp. room temperature \\n• ¼ tsp. ground allspice \\n• Pinch of crushed red pepper flakes \\n• Freshly ground black pepper \\n• ⅓ loaf good-quality sturdy white bread, torn into 1\" pieces (about 2½ cups) \\n• 2 medium apples (such as Gala or Pink Lady; about 14 oz. total), cored, cut into 1\" pieces \\n• 2 Tbsp. extra-virgin olive oil \\n• ½ small red onion, thinly sliced \\n• 3 Tbsp. apple cider vinegar \\n• 1 Tbsp. white miso \\n• ¼ cup all-purpose flour \\n• 2 Tbsp. unsalted butter, room temperature \\n• ¼ cup dry white wine \\n• 2 cups unsalted chicken broth \\n• 2 tsp. white miso \\n• Kosher salt, freshly ground pepper \\n\\nPreparation instructions: Pat chicken dry with paper towels, season all over with 2 tsp. salt, and tie legs together with kitchen twine. Let sit at room temperature 1 hour.\\nMeanwhile, halve squash and scoop out seeds. Run a vegetable peeler along ridges of squash halves to remove skin. Cut each half into ½\"-thick wedges; arrange on a rimmed baking sheet.\\nCombine sage, rosemary, and 6 Tbsp. melted butter in a large bowl; pour half of mixture over squash on baking sheet. Sprinkle squash with allspice, red pepper flakes, and ½ tsp. salt and season with black pepper; toss to coat.\\nAdd bread, apples, oil, and ¼ tsp. salt to remaining herb butter in bowl; season with black pepper and toss to combine. Set aside.\\nPlace onion and vinegar in a small bowl; season with salt and toss to coat. Let sit, tossing occasionally, until ready to serve.\\nPlace a rack in middle and lower third of oven; preheat to 425°F. Mix miso and 3 Tbsp. room-temperature butter in a small bowl until smooth. Pat chicken dry with paper towels, then rub or brush all over with miso butter. Place chicken in a large cast-iron skillet and roast on middle rack until an instant-read thermometer inserted into the thickest part of breast registers 155°F, 50–60 minutes. (Temperature will climb to 165°F while chicken rests.) Let chicken rest in skillet at least 5 minutes, then transfer to a plate; reserve skillet.\\nMeanwhile, roast squash on lower rack until mostly tender, about 25 minutes. Remove from oven and scatter reserved bread mixture over, spreading into as even a layer as you can manage. Return to oven and roast until bread is golden brown and crisp and apples are tender, about 15 minutes. Remove from oven, drain pickled onions, and toss to combine. Transfer to a serving dish.\\nUsing your fingers, mash flour and butter in a small bowl to combine.\\nSet reserved skillet with chicken drippings over medium heat. You should have about ¼ cup, but a little over or under is all good. (If you have significantly more, drain off and set excess aside.) Add wine and cook, stirring often and scraping up any browned bits with a wooden spoon, until bits are loosened and wine is reduced by about half (you should be able to smell the wine), about 2 minutes. Add butter mixture; cook, stirring often, until a smooth paste forms, about 2 minutes. Add broth and any reserved drippings and cook, stirring constantly, until combined and thickened, 6–8 minutes. Remove from heat and stir in miso. Taste and season with salt and black pepper.\\nServe chicken with gravy and squash panzanella alongside.\\n\\nImage description: miso-butter-roast-chicken-acorn-squash-panzanella a white plate with chicken, potatoes and onions',\n",
       "  'Image': 'miso-butter-roast-chicken-acorn-squash-panzanella',\n",
       "  'Image_base64': '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',\n",
       "  'Chunks': ['Miso-Butter Roast Chicken With Acorn Squash Panzanella',\n",
       "   '• 1 (3½–4-lb.) whole chicken \\n• 2¾ tsp. kosher salt, divided, plus more \\n• 2 small acorn squash (about 3 lb. total) \\n• 2 Tbsp. finely chopped sage \\n• 1 Tbsp. finely chopped rosemary \\n• 6 Tbsp. unsalted butter, melted, plus 3 Tbsp. room temperature \\n• ¼ tsp. ground allspice \\n• Pinch of crushed red pepper flakes \\n• Freshly ground black pepper \\n• ⅓ loaf good-quality sturdy white bread, torn into 1\" pieces (about 2½ cups) \\n• 2 medium apples (such as Gala or Pink Lady; about 14 oz. total), cored, cut into 1\" pieces \\n• 2 Tbsp. extra-virgin olive oil \\n• ½ small red onion, thinly sliced \\n• 3 Tbsp. apple cider vinegar \\n• 1 Tbsp. white miso \\n• ¼ cup all-purpose flour \\n• 2 Tbsp. unsalted butter, room temperature \\n• ¼ cup dry white wine \\n• 2 cups unsalted chicken broth \\n• 2 tsp. white miso \\n• Kosher salt, freshly ground pepper',\n",
       "   'Pat chicken dry with paper towels, season all over with 2 tsp. salt, and tie legs together with kitchen twine. Let sit at room temperature 1 hour.\\nMeanwhile, halve squash and scoop out seeds. Run a vegetable peeler along ridges of squash halves to remove skin. Cut each half into ½\"-thick wedges; arrange on a rimmed baking sheet.\\nCombine sage, rosemary, and 6 Tbsp. melted butter in a large bowl; pour half of mixture over squash on baking sheet. Sprinkle squash with allspice, red pepper flakes, and ½ tsp. salt and season with black pepper; toss to coat.\\nAdd bread, apples, oil, and ¼ tsp. salt to remaining herb butter in bowl; season with black pepper and toss to combine. Set aside.\\nPlace onion and vinegar in a small bowl; season with salt and toss to coat. Let sit, tossing occasionally, until ready to serve.\\nPlace a rack in middle and lower third of oven; preheat to 425°F. Mix miso and 3 Tbsp. room-temperature butter in a small bowl until smooth. Pat chicken dry with paper towels, then rub or brush all over with miso butter. Place chicken in a large cast-iron skillet and roast on middle rack until an instant-read thermometer inserted into the thickest part of breast registers 155°F, 50–60 minutes. (Temperature will climb to 165°F while chicken rests.) Let chicken rest in skillet at least 5 minutes, then transfer to a plate; reserve skillet.\\nMeanwhile, roast squash on lower rack until mostly tender, about 25 minutes. Remove from oven and scatter reserved bread mixture over, spreading into as even a layer as you can manage. Return to oven and roast until bread is golden brown and crisp and apples are tender, about 15 minutes. Remove from oven, drain pickled onions, and toss to combine. Transfer to a serving dish.\\nUsing your fingers, mash flour and butter in a small bowl to combine.\\nSet reserved skillet with chicken drippings over medium heat. You should have about ¼ cup, but a little over or under is all good. (If you have significantly more, drain off and set excess aside.) Add wine and cook, stirring often and scraping up any browned bits with a wooden spoon, until bits are loosened and wine is reduced by about half (you should be able to smell the wine), about 2 minutes. Add butter mixture; cook, stirring often, until a smooth paste forms, about 2 minutes. Add broth and any reserved drippings and cook, stirring constantly, until combined and thickened, 6–8 minutes. Remove from heat and stir in miso. Taste and season with salt and black pepper.\\nServe chicken with gravy and squash panzanella alongside.',\n",
       "   'miso butter roast chicken acorn squash panzanella a white plate with chicken, potatoes and onions']}]"
      ]
     },
     "execution_count": 9,
     "metadata": {},
     "output_type": "execute_result"
    }
   ],
   "source": [
    "data[:1]"
   ]
  },
  {
   "cell_type": "code",
   "execution_count": null,
   "metadata": {},
   "outputs": [],
   "source": []
  },
  {
   "cell_type": "code",
   "execution_count": 17,
   "metadata": {},
   "outputs": [
    {
     "name": "stdout",
     "output_type": "stream",
     "text": [
      "(53104, 384)\n"
     ]
    }
   ],
   "source": [
    "import numpy as np\n",
    "import faiss\n",
    "\n",
    "# Cargar los embeddings desde el archivo .npy\n",
    "loaded_embeddings = np.load(configs['paths']['recepies_path']['recepies_embeddings'])\n",
    "recepies_ids = read_txt(configs['paths']['recepies_path']['recepies_doc_ids'])\n",
    "\n",
    "print(loaded_embeddings.shape)\n",
    "\n",
    "# Inicializar FAISS y cargar los embeddings\n",
    "d = loaded_embeddings.shape[1]\n",
    "index = faiss.IndexFlatL2(d)\n",
    "index_with_ids = faiss.IndexIDMap(index)\n",
    "\n",
    "index_with_ids.add_with_ids(loaded_embeddings, recepies_ids)"
   ]
  },
  {
   "cell_type": "code",
   "execution_count": 45,
   "metadata": {},
   "outputs": [
    {
     "data": {
      "text/plain": [
       "(1, 384)"
      ]
     },
     "execution_count": 45,
     "metadata": {},
     "output_type": "execute_result"
    }
   ],
   "source": [
    "from sentence_transformers import SentenceTransformer\n",
    "sentences = [\"full glass filled with berries\"]\n",
    "\n",
    "model = SentenceTransformer('sentence-transformers/all-MiniLM-L6-v2')\n",
    "embeddings_query = model.encode(sentences)\n",
    "embeddings_query = np.array(embeddings_query)\n",
    "embeddings_query.shape"
   ]
  },
  {
   "cell_type": "code",
   "execution_count": 46,
   "metadata": {},
   "outputs": [
    {
     "name": "stdout",
     "output_type": "stream",
     "text": [
      "Distancias: [[0.55282056 0.6208879  0.6546285  0.66227067]]\n",
      "IDs de los resultados: [[ 4400  4393 12554  5389]]\n"
     ]
    }
   ],
   "source": [
    "# Realiza una búsqueda en el índice\n",
    "D, I = index_with_ids.search(embeddings_query.astype('float32'), k=4)\n",
    "\n",
    "print(\"Distancias:\", D)\n",
    "print(\"IDs de los resultados:\", I)"
   ]
  },
  {
   "cell_type": "code",
   "execution_count": 47,
   "metadata": {},
   "outputs": [
    {
     "data": {
      "text/plain": [
       "4400"
      ]
     },
     "execution_count": 47,
     "metadata": {},
     "output_type": "execute_result"
    }
   ],
   "source": [
    "I.tolist()[0][0]"
   ]
  },
  {
   "cell_type": "code",
   "execution_count": 48,
   "metadata": {},
   "outputs": [
    {
     "name": "stdout",
     "output_type": "stream",
     "text": [
      "{'Recepie': 'Dish name: Berries and Rum \\n\\n List of ingredients: \\n• 2 cups blackberries, frozen \\n• 1 1/2 cups raspberries, frozen \\n• 6 ounces light rum \\n• 4 ounces simple syrup \\n• 1 1/2 ounces fresh lime juice \\n• 2 cups ice \\n• Optional garnish: Blackberries \\n\\nPreparation instructions: Combine 2 cups blackberries, frozen + 1 1/2 cups raspberries, frozen + 6 ounces light rum + 4 ounces simple syrup + 1 1/2 ounces fresh lime juice + 2 cups ice. Optional garnish: Blackberries\\n\\nImage description: berries-and-rum-51240230 a glass filled with red liquid sitting on top of a white surface', 'Image': 'berries-and-rum-51240230', 'Image_base64': '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', 'Chunks': ['Berries and Rum', '• 2 cups blackberries, frozen \\n• 1 1/2 cups raspberries, frozen \\n• 6 ounces light rum \\n• 4 ounces simple syrup \\n• 1 1/2 ounces fresh lime juice \\n• 2 cups ice \\n• Optional garnish: Blackberries', 'Combine 2 cups blackberries, frozen + 1 1/2 cups raspberries, frozen + 6 ounces light rum + 4 ounces simple syrup + 1 1/2 ounces fresh lime juice + 2 cups ice. Optional garnish: Blackberries', 'berries and rum 51240230 a glass filled with red liquid sitting on top of a white surface']}\n"
     ]
    },
    {
     "data": {
      "image/jpeg": "[encoded data removed]",
      "image/png": "[encoded data removed]",
      "text/plain": [
       "<PIL.JpegImagePlugin.JpegImageFile image mode=RGB size=274x169>"
      ]
     },
     "execution_count": 48,
     "metadata": {},
     "output_type": "execute_result"
    }
   ],
   "source": [
    "from PIL import Image\n",
    "print(data[I.tolist()[0][0]])\n",
    "image_path = configs['paths']['recepies_path']['images_folder'] + data[I.tolist()[0][0]]['Image'] + '.jpg'\n",
    "\n",
    "image = Image.open(image_path)\n",
    "image"
   ]
  },
  {
   "cell_type": "code",
   "execution_count": 10,
   "metadata": {},
   "outputs": [
    {
     "data": {
      "text/plain": [
       "[0, 0, 0, 0, 1, 1, 1, 1, 2]"
      ]
     },
     "execution_count": 10,
     "metadata": {},
     "output_type": "execute_result"
    }
   ],
   "source": [
    "recepies_ids[:9]"
   ]
  },
  {
   "cell_type": "code",
   "execution_count": null,
   "metadata": {},
   "outputs": [],
   "source": []
  },
  {
   "cell_type": "code",
   "execution_count": 25,
   "metadata": {},
   "outputs": [
    {
     "data": {
      "text/plain": [
       "[0, 0, 0, 0, 1, 1, 1, 1, 2, 2, 2, 2]"
      ]
     },
     "execution_count": 25,
     "metadata": {},
     "output_type": "execute_result"
    }
   ],
   "source": [
    "doc_ids"
   ]
  },
  {
   "cell_type": "code",
   "execution_count": 37,
   "metadata": {},
   "outputs": [
    {
     "data": {
      "text/plain": [
       "'Crispy Salt and Pepper Potatoes'"
      ]
     },
     "execution_count": 37,
     "metadata": {},
     "output_type": "execute_result"
    }
   ],
   "source": [
    "chunk_list[4]"
   ]
  },
  {
   "cell_type": "code",
   "execution_count": 38,
   "metadata": {},
   "outputs": [
    {
     "data": {
      "text/plain": [
       "1"
      ]
     },
     "execution_count": 38,
     "metadata": {},
     "output_type": "execute_result"
    }
   ],
   "source": [
    "doc_ids[4]"
   ]
  },
  {
   "cell_type": "code",
   "execution_count": 39,
   "metadata": {},
   "outputs": [
    {
     "data": {
      "text/plain": [
       "'Dish name: Crispy Salt and Pepper Potatoes \\n\\n List of ingredients: \\n• 2 large egg whites \\n• 1 pound new potatoes (about 1 inch in diameter) \\n• 2 teaspoons kosher salt \\n• ¾ teaspoon finely ground black pepper \\n• 1 teaspoon finely chopped rosemary \\n• 1 teaspoon finely chopped thyme \\n• 1 teaspoon finely chopped parsley \\n\\nPreparation instructions: Preheat oven to 400°F and line a rimmed baking sheet with parchment. In a large bowl, whisk the egg whites until foamy (there shouldn’t be any liquid whites in the bowl). Add the potatoes and toss until they’re well coated with the egg whites, then transfer to a strainer or colander and let the excess whites drain. Season the potatoes with the salt, pepper, and herbs. Scatter the potatoes on the baking sheet (make sure they’re not touching) and roast until the potatoes are very crispy and tender when poked with a knife, 15 to 20 minutes (depending on the size of the potatoes).\\nTransfer to a bowl and serve.\\n\\nImage description: crispy-salt-and-pepper-potatoes-dan-kluger a plate of roasted potatoes with ranch sauce on the side'"
      ]
     },
     "execution_count": 39,
     "metadata": {},
     "output_type": "execute_result"
    }
   ],
   "source": [
    "data[doc_ids[4]]['Recepie']"
   ]
  },
  {
   "cell_type": "code",
   "execution_count": 17,
   "metadata": {},
   "outputs": [
    {
     "data": {
      "text/plain": [
       "['Miso-Butter Roast Chicken With Acorn Squash Panzanella',\n",
       " '• 1 (3½–4-lb.) whole chicken \\n• 2¾ tsp. kosher salt, divided, plus more \\n• 2 small acorn squash (about 3 lb. total) \\n• 2 Tbsp. finely chopped sage \\n• 1 Tbsp. finely chopped rosemary \\n• 6 Tbsp. unsalted butter, melted, plus 3 Tbsp. room temperature \\n• ¼ tsp. ground allspice \\n• Pinch of crushed red pepper flakes \\n• Freshly ground black pepper \\n• ⅓ loaf good-quality sturdy white bread, torn into 1\" pieces (about 2½ cups) \\n• 2 medium apples (such as Gala or Pink Lady; about 14 oz. total), cored, cut into 1\" pieces \\n• 2 Tbsp. extra-virgin olive oil \\n• ½ small red onion, thinly sliced \\n• 3 Tbsp. apple cider vinegar \\n• 1 Tbsp. white miso \\n• ¼ cup all-purpose flour \\n• 2 Tbsp. unsalted butter, room temperature \\n• ¼ cup dry white wine \\n• 2 cups unsalted chicken broth \\n• 2 tsp. white miso \\n• Kosher salt, freshly ground pepper',\n",
       " 'Pat chicken dry with paper towels, season all over with 2 tsp. salt, and tie legs together with kitchen twine. Let sit at room temperature 1 hour.\\nMeanwhile, halve squash and scoop out seeds. Run a vegetable peeler along ridges of squash halves to remove skin. Cut each half into ½\"-thick wedges; arrange on a rimmed baking sheet.\\nCombine sage, rosemary, and 6 Tbsp. melted butter in a large bowl; pour half of mixture over squash on baking sheet. Sprinkle squash with allspice, red pepper flakes, and ½ tsp. salt and season with black pepper; toss to coat.\\nAdd bread, apples, oil, and ¼ tsp. salt to remaining herb butter in bowl; season with black pepper and toss to combine. Set aside.\\nPlace onion and vinegar in a small bowl; season with salt and toss to coat. Let sit, tossing occasionally, until ready to serve.\\nPlace a rack in middle and lower third of oven; preheat to 425°F. Mix miso and 3 Tbsp. room-temperature butter in a small bowl until smooth. Pat chicken dry with paper towels, then rub or brush all over with miso butter. Place chicken in a large cast-iron skillet and roast on middle rack until an instant-read thermometer inserted into the thickest part of breast registers 155°F, 50–60 minutes. (Temperature will climb to 165°F while chicken rests.) Let chicken rest in skillet at least 5 minutes, then transfer to a plate; reserve skillet.\\nMeanwhile, roast squash on lower rack until mostly tender, about 25 minutes. Remove from oven and scatter reserved bread mixture over, spreading into as even a layer as you can manage. Return to oven and roast until bread is golden brown and crisp and apples are tender, about 15 minutes. Remove from oven, drain pickled onions, and toss to combine. Transfer to a serving dish.\\nUsing your fingers, mash flour and butter in a small bowl to combine.\\nSet reserved skillet with chicken drippings over medium heat. You should have about ¼ cup, but a little over or under is all good. (If you have significantly more, drain off and set excess aside.) Add wine and cook, stirring often and scraping up any browned bits with a wooden spoon, until bits are loosened and wine is reduced by about half (you should be able to smell the wine), about 2 minutes. Add butter mixture; cook, stirring often, until a smooth paste forms, about 2 minutes. Add broth and any reserved drippings and cook, stirring constantly, until combined and thickened, 6–8 minutes. Remove from heat and stir in miso. Taste and season with salt and black pepper.\\nServe chicken with gravy and squash panzanella alongside.',\n",
       " 'miso butter roast chicken acorn squash panzanella a white plate with chicken, potatoes and onions',\n",
       " 'Crispy Salt and Pepper Potatoes',\n",
       " '• 2 large egg whites \\n• 1 pound new potatoes (about 1 inch in diameter) \\n• 2 teaspoons kosher salt \\n• ¾ teaspoon finely ground black pepper \\n• 1 teaspoon finely chopped rosemary \\n• 1 teaspoon finely chopped thyme \\n• 1 teaspoon finely chopped parsley',\n",
       " 'Preheat oven to 400°F and line a rimmed baking sheet with parchment. In a large bowl, whisk the egg whites until foamy (there shouldn’t be any liquid whites in the bowl). Add the potatoes and toss until they’re well coated with the egg whites, then transfer to a strainer or colander and let the excess whites drain. Season the potatoes with the salt, pepper, and herbs. Scatter the potatoes on the baking sheet (make sure they’re not touching) and roast until the potatoes are very crispy and tender when poked with a knife, 15 to 20 minutes (depending on the size of the potatoes).\\nTransfer to a bowl and serve.',\n",
       " 'crispy salt and pepper potatoes dan kluger a plate of roasted potatoes with ranch sauce on the side',\n",
       " 'Thanksgiving Mac and Cheese',\n",
       " '• 1 cup evaporated milk \\n• 1 cup whole milk \\n• 1 tsp. garlic powder \\n• 1 tsp. onion powder \\n• 1 tsp. smoked paprika \\n• ½ tsp. freshly ground black pepper \\n• 1 tsp. kosher salt, plus more \\n• 2 lb. extra-sharp cheddar, coarsely grated \\n• 4 oz. full-fat cream cheese \\n• 1 lb. elbow macaroni',\n",
       " 'Place a rack in middle of oven; preheat to 400°. Bring evaporated milk and whole milk to a bare simmer in a large saucepan over medium heat. Whisk in garlic powder, onion powder, paprika, pepper, and 1 tsp. salt. Working in batches, whisk in three fourths of the cheddar, then all of the cream cheese.\\nMeanwhile, bring a large pot of generously salted water to a boil (it should have a little less salt than seawater). Cook macaroni, stirring occasionally, until very al dente, about 4 minutes. Drain in a colander.\\nAdd macaroni to cheese sauce in pan and mix until well coated. Evenly spread out half of macaroni mixture in a 13x9\" baking dish. Sprinkle half of remaining cheddar evenly over. Layer remaining macaroni mixture on top and sprinkle with remaining cheddar. Bake until all of the cheese is melted, about 10 minutes. Let cool slightly before serving.',\n",
       " 'thanksgiving mac and cheese erick williams an image of a casser filled with chicken and rice']"
      ]
     },
     "execution_count": 17,
     "metadata": {},
     "output_type": "execute_result"
    }
   ],
   "source": [
    "lista"
   ]
  },
  {
   "cell_type": "code",
   "execution_count": 33,
   "metadata": {},
   "outputs": [
    {
     "name": "stdout",
     "output_type": "stream",
     "text": [
      "Distancias: [[0.   0.01 0.01]]\n",
      "IDs de los resultados: [[102 102 102]]\n"
     ]
    }
   ],
   "source": [
    "import faiss\n",
    "import numpy as np\n",
    "\n",
    "# Suponiendo que tienes tus embeddings en `text_embeddings` y una lista de IDs\n",
    "text_embeddings = np.array([[0.1, 0.2], [0.2, 0.3], [0.2, 0.2] ,[0.2, 0.1], [0.4, 0.5]]).astype('float32')\n",
    "ids = np.array([102, 102, 102, 102, 103])  # Lista de IDs únicos para cada embedding\n",
    "\n",
    "# Crea un índice FAISS normal\n",
    "d = text_embeddings.shape[1]\n",
    "index = faiss.IndexFlatL2(d)\n",
    "\n",
    "# Envuélvelo en un IndexIDMap para agregar los IDs personalizados\n",
    "index_with_ids = faiss.IndexIDMap(index)\n",
    "\n",
    "# Agrega los embeddings con sus IDs\n",
    "index_with_ids.add_with_ids(text_embeddings, ids)\n",
    "\n",
    "# Realiza una búsqueda en el índice\n",
    "D, I = index_with_ids.search(np.array([[0.2, 0.2]]).astype('float32'), k=3)\n",
    "\n",
    "print(\"Distancias:\", D)\n",
    "print(\"IDs de los resultados:\", I)"
   ]
  }
 ],
 "metadata": {
  "kernelspec": {
   "display_name": "amb_mulrimodalrag",
   "language": "python",
   "name": "python3"
  },
  "language_info": {
   "codemirror_mode": {
    "name": "ipython",
    "version": 3
   },
   "file_extension": ".py",
   "mimetype": "text/x-python",
   "name": "python",
   "nbconvert_exporter": "python",
   "pygments_lexer": "ipython3",
   "version": "3.11.5"
  }
 },
 "nbformat": 4,
 "nbformat_minor": 2
}
